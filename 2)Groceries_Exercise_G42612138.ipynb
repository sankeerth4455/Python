{
  "nbformat": 4,
  "nbformat_minor": 0,
  "metadata": {
    "colab": {
      "provenance": []
    },
    "kernelspec": {
      "name": "python3",
      "display_name": "Python 3"
    }
  },
  "cells": [
    {
      "cell_type": "markdown",
      "source": [
        "version 2023-09-11 (updated rubric)"
      ],
      "metadata": {
        "id": "WTkajWgqtWF2"
      }
    },
    {
      "cell_type": "markdown",
      "metadata": {
        "id": "qO82jWpUzFYe"
      },
      "source": [
        "## References\n",
        "\n",
        "  + [Lists](https://github.com/prof-rossetti/intro-to-python/blob/master/notes/python/datatypes/lists.md)\n",
        "  + [Dictionaries](https://github.com/prof-rossetti/intro-to-python/blob/master/notes/python/datatypes/dictionaries.md)\n",
        "  + [List Comprehensions](https://docs.python.org/3/tutorial/datastructures.html?#list-comprehensions)"
      ]
    },
    {
      "cell_type": "markdown",
      "metadata": {
        "id": "cj2a-V0qfs8X"
      },
      "source": [
        "# Instructions\n",
        "\n",
        "Make a copy of this notebook so you can edit and save your own version of it. Do the work in your copy of the notebook.\n",
        "\n",
        "The setup cell provides a Python variable called `products` and a function called `to_usd`. Remember to run the setup cells before proceeding to development.\n",
        "\n",
        "Write Python code in the cells below to transform the provided `products` variable into the desired information outputs.\n"
      ]
    },
    {
      "cell_type": "markdown",
      "source": [
        "# Collaboration\n"
      ],
      "metadata": {
        "id": "_tAsSkLW2lv5"
      }
    },
    {
      "cell_type": "markdown",
      "source": [
        "\n",
        "\n",
        "\n",
        "\n",
        "It is OK to discuss this exercise generally with other students, to work together, and even to share some code snippets.\n",
        "\n",
        "It's OK to search the Internet for helpful resources like the course repository and Stack Overflow.\n",
        "\n",
        "HOWEVER: If you receive help from another student, or an Internet resource other than the course repository, you are expected to **attribute the source of help** in either a text cell or code comment.\n",
        "\n",
        "Attribution Comment Examples:\n",
        "  + \"Student _____ helped me with this part\"\n",
        "  + \"Student _____ and I worked on this part together\"\n",
        "  + \"Found this code from URL ________\"\n",
        "\n"
      ],
      "metadata": {
        "id": "BVi53DPY2kIc"
      }
    },
    {
      "cell_type": "markdown",
      "source": [
        "# Evaluation\n"
      ],
      "metadata": {
        "id": "21J43slr2gdG"
      }
    },
    {
      "cell_type": "markdown",
      "source": [
        "\n",
        "\n",
        "Exercise submissions will be evaluated according to the rubric below:\n",
        "\n",
        "Part | Criteria | Weight\n",
        "-- | -- | --\n",
        "Part 1 | Dynamically counts the number of products. | 10%\n",
        "Part 1 | Loops through the products and prints the name and price of each. | 20%\n",
        "Part 1 | Formats prices using provided `to_usd` function. | 10%\n",
        "Part 2 | Dynamically counts the number of unique departments. | 15%\n",
        "Part 2 | Loops through the departments and prints the name of each, formatted as title case. | 15%\n",
        "Part 2 | Prints the number of matching products for each department. | 20%\n",
        "Part 2 | Conditionally pluralizes the \"product\" vs \"products\" label depending on how many matching products there are. | 10%\n",
        "\n",
        "\n",
        "\n",
        "\n",
        "\n",
        "\n",
        "\n",
        "\n",
        "\n",
        "\n",
        "\n",
        "This rubric is tentative, and may be subject to slight adjustments during the grading process.\n"
      ],
      "metadata": {
        "id": "XDP5rn_g2e45"
      }
    },
    {
      "cell_type": "markdown",
      "metadata": {
        "id": "eDLu9Zvgfuvq"
      },
      "source": [
        "# Setup"
      ]
    },
    {
      "cell_type": "code",
      "source": [
        "#\n",
        "# SETUP CELL (run and leave as-is)\n",
        "#\n",
        "\n",
        "def to_usd(my_price):\n",
        "    \"\"\"\n",
        "        Converts a numeric value to usd-formatted string, for printing and display purposes.\n",
        "\n",
        "        Param: my_price (int or float) like 4000.444444\n",
        "\n",
        "        Example: to_usd(4000.444444)\n",
        "\n",
        "        Returns: $4,000.44\n",
        "    \"\"\"\n",
        "    return f\"${my_price:,.2f}\" #> $12,000.71\n",
        "\n",
        "\n",
        "# example tests and invocations for the function:\n",
        "assert to_usd(3.5) == \"$3.50\"\n",
        "assert to_usd(4.44444) == \"$4.44\"\n",
        "assert to_usd(1234567890) == \"$1,234,567,890.00\"\n",
        "print(to_usd(12345.6789))"
      ],
      "metadata": {
        "colab": {
          "base_uri": "https://localhost:8080/"
        },
        "id": "4_kC0rW0Dsd7",
        "outputId": "c4feec60-bbf1-4471-cc18-69fa420b3193"
      },
      "execution_count": 1,
      "outputs": [
        {
          "output_type": "stream",
          "name": "stdout",
          "text": [
            "$12,345.68\n"
          ]
        }
      ]
    },
    {
      "cell_type": "code",
      "metadata": {
        "id": "bMCg7sm9UuKL",
        "colab": {
          "base_uri": "https://localhost:8080/"
        },
        "outputId": "cc716265-7557-4b0a-f67a-5260a7cee9fc"
      },
      "source": [
        "#\n",
        "# SETUP CELL (run and leave as-is)\n",
        "#\n",
        "\n",
        "products = [\n",
        "    {\"id\":1, \"name\": \"Chocolate Sandwich Cookies\", \"department\": \"snacks\", \"aisle\": \"cookies cakes\", \"price\": 3.50},\n",
        "    {\"id\":2, \"name\": \"All-Seasons Salt\", \"department\": \"pantry\", \"aisle\": \"spices seasonings\", \"price\": 4.99},\n",
        "    {\"id\":3, \"name\": \"Robust Golden Unsweetened Oolong Tea\", \"department\": \"beverages\", \"aisle\": \"tea\", \"price\": 2.49},\n",
        "    {\"id\":4, \"name\": \"Smart Ones Classic Favorites Mini Rigatoni With Vodka Cream Sauce\", \"department\": \"frozen\", \"aisle\": \"frozen meals\", \"price\": 6.99},\n",
        "    {\"id\":5, \"name\": \"Green Chile Anytime Sauce\", \"department\": \"pantry\", \"aisle\": \"marinades meat preparation\", \"price\": 7.99},\n",
        "    {\"id\":6, \"name\": \"Dry Nose Oil\", \"department\": \"personal care\", \"aisle\": \"cold flu allergy\", \"price\": 21.99},\n",
        "    {\"id\":7, \"name\": \"Pure Coconut Water With Orange\", \"department\": \"beverages\", \"aisle\": \"juice nectars\", \"price\": 3.50},\n",
        "    {\"id\":8, \"name\": \"Cut Russet Potatoes Steam N' Mash\", \"department\": \"frozen\", \"aisle\": \"frozen produce\", \"price\": 4.25},\n",
        "    {\"id\":9, \"name\": \"Light Strawberry Blueberry Yogurt\", \"department\": \"dairy eggs\", \"aisle\": \"yogurt\", \"price\": 6.50},\n",
        "    {\"id\":10, \"name\": \"Sparkling Orange Juice & Prickly Pear Beverage\", \"department\": \"beverages\", \"aisle\": \"water seltzer sparkling water\", \"price\": 2.99},\n",
        "    {\"id\":11, \"name\": \"Peach Mango Juice\", \"department\": \"beverages\", \"aisle\": \"refrigerated\", \"price\": 1.99},\n",
        "    {\"id\":12, \"name\": \"Chocolate Fudge Layer Cake\", \"department\": \"frozen\", \"aisle\": \"frozen dessert\", \"price\": 18.50},\n",
        "    {\"id\":13, \"name\": \"Saline Nasal Mist\", \"department\": \"personal care\", \"aisle\": \"cold flu allergy\", \"price\": 16.00},\n",
        "    {\"id\":14, \"name\": \"Fresh Scent Dishwasher Cleaner\", \"department\": \"household\", \"aisle\": \"dish detergents\", \"price\": 4.99},\n",
        "    {\"id\":15, \"name\": \"Overnight Diapers Size 6\", \"department\": \"babies\", \"aisle\": \"diapers wipes\", \"price\": 25.50},\n",
        "    {\"id\":16, \"name\": \"Mint Chocolate Flavored Syrup\", \"department\": \"snacks\", \"aisle\": \"ice cream toppings\", \"price\": 4.50},\n",
        "    {\"id\":17, \"name\": \"Rendered Duck Fat\", \"department\": \"meat seafood\", \"aisle\": \"poultry counter\", \"price\": 9.99},\n",
        "    {\"id\":18, \"name\": \"Pizza for One Suprema Frozen Pizza\", \"department\": \"frozen\", \"aisle\": \"frozen pizza\", \"price\": 12.50},\n",
        "    {\"id\":19, \"name\": \"Gluten Free Quinoa Three Cheese & Mushroom Blend\", \"department\": \"dry goods pasta\", \"aisle\": \"grains rice dried goods\", \"price\": 3.99},\n",
        "    {\"id\":20, \"name\": \"Pomegranate Cranberry & Aloe Vera Enrich Drink\", \"department\": \"beverages\", \"aisle\": \"juice nectars\", \"price\": 4.25}\n",
        "] # based on data from Instacart: https://www.instacart.com/datasets/grocery-shopping-2017\n",
        "\n",
        "\n",
        "print(products)"
      ],
      "execution_count": 2,
      "outputs": [
        {
          "output_type": "stream",
          "name": "stdout",
          "text": [
            "[{'id': 1, 'name': 'Chocolate Sandwich Cookies', 'department': 'snacks', 'aisle': 'cookies cakes', 'price': 3.5}, {'id': 2, 'name': 'All-Seasons Salt', 'department': 'pantry', 'aisle': 'spices seasonings', 'price': 4.99}, {'id': 3, 'name': 'Robust Golden Unsweetened Oolong Tea', 'department': 'beverages', 'aisle': 'tea', 'price': 2.49}, {'id': 4, 'name': 'Smart Ones Classic Favorites Mini Rigatoni With Vodka Cream Sauce', 'department': 'frozen', 'aisle': 'frozen meals', 'price': 6.99}, {'id': 5, 'name': 'Green Chile Anytime Sauce', 'department': 'pantry', 'aisle': 'marinades meat preparation', 'price': 7.99}, {'id': 6, 'name': 'Dry Nose Oil', 'department': 'personal care', 'aisle': 'cold flu allergy', 'price': 21.99}, {'id': 7, 'name': 'Pure Coconut Water With Orange', 'department': 'beverages', 'aisle': 'juice nectars', 'price': 3.5}, {'id': 8, 'name': \"Cut Russet Potatoes Steam N' Mash\", 'department': 'frozen', 'aisle': 'frozen produce', 'price': 4.25}, {'id': 9, 'name': 'Light Strawberry Blueberry Yogurt', 'department': 'dairy eggs', 'aisle': 'yogurt', 'price': 6.5}, {'id': 10, 'name': 'Sparkling Orange Juice & Prickly Pear Beverage', 'department': 'beverages', 'aisle': 'water seltzer sparkling water', 'price': 2.99}, {'id': 11, 'name': 'Peach Mango Juice', 'department': 'beverages', 'aisle': 'refrigerated', 'price': 1.99}, {'id': 12, 'name': 'Chocolate Fudge Layer Cake', 'department': 'frozen', 'aisle': 'frozen dessert', 'price': 18.5}, {'id': 13, 'name': 'Saline Nasal Mist', 'department': 'personal care', 'aisle': 'cold flu allergy', 'price': 16.0}, {'id': 14, 'name': 'Fresh Scent Dishwasher Cleaner', 'department': 'household', 'aisle': 'dish detergents', 'price': 4.99}, {'id': 15, 'name': 'Overnight Diapers Size 6', 'department': 'babies', 'aisle': 'diapers wipes', 'price': 25.5}, {'id': 16, 'name': 'Mint Chocolate Flavored Syrup', 'department': 'snacks', 'aisle': 'ice cream toppings', 'price': 4.5}, {'id': 17, 'name': 'Rendered Duck Fat', 'department': 'meat seafood', 'aisle': 'poultry counter', 'price': 9.99}, {'id': 18, 'name': 'Pizza for One Suprema Frozen Pizza', 'department': 'frozen', 'aisle': 'frozen pizza', 'price': 12.5}, {'id': 19, 'name': 'Gluten Free Quinoa Three Cheese & Mushroom Blend', 'department': 'dry goods pasta', 'aisle': 'grains rice dried goods', 'price': 3.99}, {'id': 20, 'name': 'Pomegranate Cranberry & Aloe Vera Enrich Drink', 'department': 'beverages', 'aisle': 'juice nectars', 'price': 4.25}]\n"
          ]
        }
      ]
    },
    {
      "cell_type": "markdown",
      "metadata": {
        "id": "da-yL2tWU6R8"
      },
      "source": [
        "# Part 1 (Products)\n",
        "\n",
        "Write python code which references the `products` variable to reproduce the following output, representing a human-friendly list of products:\n",
        "\n",
        "```\n",
        "--------------\n",
        "THERE ARE 20 PRODUCTS:\n",
        "--------------\n",
        " + All-Seasons Salt ($4.99)\n",
        " + Chocolate Fudge Layer Cake ($18.50)\n",
        " + Chocolate Sandwich Cookies ($3.50)\n",
        " + Cut Russet Potatoes Steam N' Mash ($4.25)\n",
        " + Dry Nose Oil ($21.99)\n",
        " + Fresh Scent Dishwasher Cleaner ($4.99)\n",
        " + Gluten Free Quinoa Three Cheese & Mushroom Blend ($3.99)\n",
        " + Green Chile Anytime Sauce ($7.99)\n",
        " + Light Strawberry Blueberry Yogurt ($6.50)\n",
        " + Mint Chocolate Flavored Syrup ($4.50)\n",
        " + Overnight Diapers Size 6 ($25.50)\n",
        " + Peach Mango Juice ($1.99)\n",
        " + Pizza For One Suprema Frozen Pizza ($12.50)\n",
        " + Pomegranate Cranberry & Aloe Vera Enrich Drink ($4.25)\n",
        " + Pure Coconut Water With Orange ($3.50)\n",
        " + Rendered Duck Fat ($9.99)\n",
        " + Robust Golden Unsweetened Oolong Tea ($2.49)\n",
        " + Saline Nasal Mist ($16.00)\n",
        " + Smart Ones Classic Favorites Mini Rigatoni With Vodka Cream Sauce ($6.99)\n",
        " + Sparkling Orange Juice & Prickly Pear Beverage ($2.99)\n",
        " ```\n"
      ]
    },
    {
      "cell_type": "code",
      "metadata": {
        "id": "H5U_nR6cgEon"
      },
      "source": [
        "# Imports\n",
        "import numpy as np\n",
        "from operator import itemgetter"
      ],
      "execution_count": 9,
      "outputs": []
    },
    {
      "cell_type": "code",
      "source": [
        "# creating list products\n",
        "products = [\n",
        "    {\"id\":1, \"name\": \"Chocolate Sandwich Cookies\", \"department\": \"snacks\", \"aisle\": \"cookies cakes\", \"price\": 3.50},\n",
        "    {\"id\":2, \"name\": \"All-Seasons Salt\", \"department\": \"pantry\", \"aisle\": \"spices seasonings\", \"price\": 4.99},\n",
        "    {\"id\":3, \"name\": \"Robust Golden Unsweetened Oolong Tea\", \"department\": \"beverages\", \"aisle\": \"tea\", \"price\": 2.49},\n",
        "    {\"id\":4, \"name\": \"Smart Ones Classic Favorites Mini Rigatoni With Vodka Cream Sauce\", \"department\": \"frozen\", \"aisle\": \"frozen meals\", \"price\": 6.99},\n",
        "    {\"id\":5, \"name\": \"Green Chile Anytime Sauce\", \"department\": \"pantry\", \"aisle\": \"marinades meat preparation\", \"price\": 7.99},\n",
        "    {\"id\":6, \"name\": \"Dry Nose Oil\", \"department\": \"personal care\", \"aisle\": \"cold flu allergy\", \"price\": 21.99},\n",
        "    {\"id\":7, \"name\": \"Pure Coconut Water With Orange\", \"department\": \"beverages\", \"aisle\": \"juice nectars\", \"price\": 3.50},\n",
        "    {\"id\":8, \"name\": \"Cut Russet Potatoes Steam N' Mash\", \"department\": \"frozen\", \"aisle\": \"frozen produce\", \"price\": 4.25},\n",
        "    {\"id\":9, \"name\": \"Light Strawberry Blueberry Yogurt\", \"department\": \"dairy eggs\", \"aisle\": \"yogurt\", \"price\": 6.50},\n",
        "    {\"id\":10, \"name\": \"Sparkling Orange Juice & Prickly Pear Beverage\", \"department\": \"beverages\", \"aisle\": \"water seltzer sparkling water\", \"price\": 2.99},\n",
        "    {\"id\":11, \"name\": \"Peach Mango Juice\", \"department\": \"beverages\", \"aisle\": \"refrigerated\", \"price\": 1.99},\n",
        "    {\"id\":12, \"name\": \"Chocolate Fudge Layer Cake\", \"department\": \"frozen\", \"aisle\": \"frozen dessert\", \"price\": 18.50},\n",
        "    {\"id\":13, \"name\": \"Saline Nasal Mist\", \"department\": \"personal care\", \"aisle\": \"cold flu allergy\", \"price\": 16.00},\n",
        "    {\"id\":14, \"name\": \"Fresh Scent Dishwasher Cleaner\", \"department\": \"household\", \"aisle\": \"dish detergents\", \"price\": 4.99},\n",
        "    {\"id\":15, \"name\": \"Overnight Diapers Size 6\", \"department\": \"babies\", \"aisle\": \"diapers wipes\", \"price\": 25.50},\n",
        "    {\"id\":16, \"name\": \"Mint Chocolate Flavored Syrup\", \"department\": \"snacks\", \"aisle\": \"ice cream toppings\", \"price\": 4.50},\n",
        "    {\"id\":17, \"name\": \"Rendered Duck Fat\", \"department\": \"meat seafood\", \"aisle\": \"poultry counter\", \"price\": 9.99},\n",
        "    {\"id\":18, \"name\": \"Pizza for One Suprema Frozen Pizza\", \"department\": \"frozen\", \"aisle\": \"frozen pizza\", \"price\": 12.50},\n",
        "    {\"id\":19, \"name\": \"Gluten Free Quinoa Three Cheese & Mushroom Blend\", \"department\": \"dry goods pasta\", \"aisle\": \"grains rice dried goods\", \"price\": 3.99},\n",
        "    {\"id\":20, \"name\": \"Pomegranate Cranberry & Aloe Vera Enrich Drink\", \"department\": \"beverages\", \"aisle\": \"juice nectars\", \"price\": 4.25}\n",
        "]\n",
        "\n",
        "\n",
        "print(products)"
      ],
      "metadata": {
        "colab": {
          "base_uri": "https://localhost:8080/"
        },
        "id": "fE_uZEthR95A",
        "outputId": "6cc5065d-55a3-41ed-fb2a-2e35984693e4"
      },
      "execution_count": 10,
      "outputs": [
        {
          "output_type": "stream",
          "name": "stdout",
          "text": [
            "[{'id': 1, 'name': 'Chocolate Sandwich Cookies', 'department': 'snacks', 'aisle': 'cookies cakes', 'price': 3.5}, {'id': 2, 'name': 'All-Seasons Salt', 'department': 'pantry', 'aisle': 'spices seasonings', 'price': 4.99}, {'id': 3, 'name': 'Robust Golden Unsweetened Oolong Tea', 'department': 'beverages', 'aisle': 'tea', 'price': 2.49}, {'id': 4, 'name': 'Smart Ones Classic Favorites Mini Rigatoni With Vodka Cream Sauce', 'department': 'frozen', 'aisle': 'frozen meals', 'price': 6.99}, {'id': 5, 'name': 'Green Chile Anytime Sauce', 'department': 'pantry', 'aisle': 'marinades meat preparation', 'price': 7.99}, {'id': 6, 'name': 'Dry Nose Oil', 'department': 'personal care', 'aisle': 'cold flu allergy', 'price': 21.99}, {'id': 7, 'name': 'Pure Coconut Water With Orange', 'department': 'beverages', 'aisle': 'juice nectars', 'price': 3.5}, {'id': 8, 'name': \"Cut Russet Potatoes Steam N' Mash\", 'department': 'frozen', 'aisle': 'frozen produce', 'price': 4.25}, {'id': 9, 'name': 'Light Strawberry Blueberry Yogurt', 'department': 'dairy eggs', 'aisle': 'yogurt', 'price': 6.5}, {'id': 10, 'name': 'Sparkling Orange Juice & Prickly Pear Beverage', 'department': 'beverages', 'aisle': 'water seltzer sparkling water', 'price': 2.99}, {'id': 11, 'name': 'Peach Mango Juice', 'department': 'beverages', 'aisle': 'refrigerated', 'price': 1.99}, {'id': 12, 'name': 'Chocolate Fudge Layer Cake', 'department': 'frozen', 'aisle': 'frozen dessert', 'price': 18.5}, {'id': 13, 'name': 'Saline Nasal Mist', 'department': 'personal care', 'aisle': 'cold flu allergy', 'price': 16.0}, {'id': 14, 'name': 'Fresh Scent Dishwasher Cleaner', 'department': 'household', 'aisle': 'dish detergents', 'price': 4.99}, {'id': 15, 'name': 'Overnight Diapers Size 6', 'department': 'babies', 'aisle': 'diapers wipes', 'price': 25.5}, {'id': 16, 'name': 'Mint Chocolate Flavored Syrup', 'department': 'snacks', 'aisle': 'ice cream toppings', 'price': 4.5}, {'id': 17, 'name': 'Rendered Duck Fat', 'department': 'meat seafood', 'aisle': 'poultry counter', 'price': 9.99}, {'id': 18, 'name': 'Pizza for One Suprema Frozen Pizza', 'department': 'frozen', 'aisle': 'frozen pizza', 'price': 12.5}, {'id': 19, 'name': 'Gluten Free Quinoa Three Cheese & Mushroom Blend', 'department': 'dry goods pasta', 'aisle': 'grains rice dried goods', 'price': 3.99}, {'id': 20, 'name': 'Pomegranate Cranberry & Aloe Vera Enrich Drink', 'department': 'beverages', 'aisle': 'juice nectars', 'price': 4.25}]\n"
          ]
        }
      ]
    },
    {
      "cell_type": "code",
      "source": [
        "# USD formatting function\n",
        "def to_usd(my_price):\n",
        "    return f\"${my_price:,.2f}\""
      ],
      "metadata": {
        "id": "PiI_g1M7SBM9"
      },
      "execution_count": 11,
      "outputs": []
    },
    {
      "cell_type": "code",
      "source": [
        "# Number of products\n",
        "print(\"--------------\")\n",
        "print(\"THERE ARE\",len(products),\"PRODUCTS:\")\n",
        "print(\"--------------\")\n",
        "\n",
        "# Sorting the products by name\n",
        "sorted_products = sorted(products, key=itemgetter(\"name\"))\n",
        "\n",
        "# Creating the loop to print the produts and their prices\n",
        "for p in sorted_products:\n",
        "    print(\"+\",p[\"name\"],\"(\"+to_usd(p[\"price\"])+\")\")"
      ],
      "metadata": {
        "colab": {
          "base_uri": "https://localhost:8080/"
        },
        "id": "8XwlC8pZVgVR",
        "outputId": "6b07b78f-d915-43eb-bdf5-2a4f396c3e35"
      },
      "execution_count": 12,
      "outputs": [
        {
          "output_type": "stream",
          "name": "stdout",
          "text": [
            "--------------\n",
            "THERE ARE 20 PRODUCTS:\n",
            "--------------\n",
            "+ All-Seasons Salt ($4.99)\n",
            "+ Chocolate Fudge Layer Cake ($18.50)\n",
            "+ Chocolate Sandwich Cookies ($3.50)\n",
            "+ Cut Russet Potatoes Steam N' Mash ($4.25)\n",
            "+ Dry Nose Oil ($21.99)\n",
            "+ Fresh Scent Dishwasher Cleaner ($4.99)\n",
            "+ Gluten Free Quinoa Three Cheese & Mushroom Blend ($3.99)\n",
            "+ Green Chile Anytime Sauce ($7.99)\n",
            "+ Light Strawberry Blueberry Yogurt ($6.50)\n",
            "+ Mint Chocolate Flavored Syrup ($4.50)\n",
            "+ Overnight Diapers Size 6 ($25.50)\n",
            "+ Peach Mango Juice ($1.99)\n",
            "+ Pizza for One Suprema Frozen Pizza ($12.50)\n",
            "+ Pomegranate Cranberry & Aloe Vera Enrich Drink ($4.25)\n",
            "+ Pure Coconut Water With Orange ($3.50)\n",
            "+ Rendered Duck Fat ($9.99)\n",
            "+ Robust Golden Unsweetened Oolong Tea ($2.49)\n",
            "+ Saline Nasal Mist ($16.00)\n",
            "+ Smart Ones Classic Favorites Mini Rigatoni With Vodka Cream Sauce ($6.99)\n",
            "+ Sparkling Orange Juice & Prickly Pear Beverage ($2.99)\n"
          ]
        }
      ]
    },
    {
      "cell_type": "markdown",
      "metadata": {
        "id": "HJiIxGI7Vw20"
      },
      "source": [
        "# Part 2 (Departments)\n",
        "\n",
        "Write python code which references the `products` variable to reproduce the following output, representing a human-friendly list of departments:\n"
      ]
    },
    {
      "cell_type": "markdown",
      "metadata": {
        "id": "PHGh4bUYVgW2"
      },
      "source": [
        "\n",
        "\n",
        "\n",
        "```\n",
        "--------------\n",
        "THERE ARE 10 DEPARTMENTS:\n",
        "--------------\n",
        " + Babies (1 product)\n",
        " + Beverages (5 products)\n",
        " + Dairy Eggs (1 product)\n",
        " + Dry Goods Pasta (1 product)\n",
        " + Frozen (4 products)\n",
        " + Household (1 product)\n",
        " + Meat Seafood (1 product)\n",
        " + Pantry (2 products)\n",
        " + Personal Care (2 products)\n",
        " + Snacks (2 products)\n",
        " ```"
      ]
    },
    {
      "cell_type": "markdown",
      "source": [
        "> NOTE: there are many ways of counting the corresponding number of products for each department. Consider a counting approach, a filtering approach, or a [`Counter`](https://docs.python.org/3/library/collections.html#collections.Counter) from the `collections` module."
      ],
      "metadata": {
        "id": "Fn_OmLTBxZot"
      }
    },
    {
      "cell_type": "code",
      "source": [
        "# Number of departments\n",
        "departments = []\n",
        "for p in products:\n",
        "    departments.append(p[\"department\"])\n",
        "\n",
        "unique_departments = list(set(departments))\n",
        "print(\"--------------\")\n",
        "print(\"THERE ARE\",len(unique_departments),\"DEPARTMENTS:\")\n",
        "print(\"--------------\")\n",
        "\n",
        "# Creating the loop to print the departments and their number of products\n",
        "for y in sorted(unique_departments):\n",
        "    if departments.count(y) == 1:\n",
        "        print(\"+\",y,\"(\"+str(departments.count(y)),\"product)\")\n",
        "    else:\n",
        "        print(\"+\",y,\"(\"+str(departments.count(y)),\"products)\")"
      ],
      "metadata": {
        "colab": {
          "base_uri": "https://localhost:8080/"
        },
        "id": "y3-9Rb-9mSBj",
        "outputId": "e4bb867d-4c7e-4b1f-9189-e2557416a326"
      },
      "execution_count": 13,
      "outputs": [
        {
          "output_type": "stream",
          "name": "stdout",
          "text": [
            "--------------\n",
            "THERE ARE 10 DEPARTMENTS:\n",
            "--------------\n",
            "+ babies (1 product)\n",
            "+ beverages (5 products)\n",
            "+ dairy eggs (1 product)\n",
            "+ dry goods pasta (1 product)\n",
            "+ frozen (4 products)\n",
            "+ household (1 product)\n",
            "+ meat seafood (1 product)\n",
            "+ pantry (2 products)\n",
            "+ personal care (2 products)\n",
            "+ snacks (2 products)\n"
          ]
        }
      ]
    },
    {
      "cell_type": "markdown",
      "source": [
        "# Rough"
      ],
      "metadata": {
        "id": "0c0vjxUgoTU1"
      }
    },
    {
      "cell_type": "code",
      "source": [
        "# Number of departments\n",
        "departments = []\n",
        "for p in products:\n",
        "    departments.append(p[\"department\"])\n",
        "\n",
        "departments = list(set(departments))\n",
        "print(\"--------------\")\n",
        "print(\"THERE ARE\",len(departments),\"DEPARTMENTS:\")\n",
        "print(\"--------------\")\n",
        "\n",
        "# Creating the loop to print the departments and their number of products\n",
        "department_count = []\n",
        "for y in sorted(departments):\n",
        "    for p in products:\n",
        "        if p[\"department\"] == y:\n",
        "            department_count.append(p[\"department\"])\n",
        "    if department_count.count(y) == 1:\n",
        "        print(\"+\",y,\"(\"+str(department_count.count(y)),\"product)\")\n",
        "    else:\n",
        "        print(\"+\",y,\"(\"+str(department_count.count(y)),\"products)\")"
      ],
      "metadata": {
        "colab": {
          "base_uri": "https://localhost:8080/"
        },
        "id": "0ufTGAbUZa8u",
        "outputId": "6b63f11a-3d0a-4053-a644-af79fdc9a3b1"
      },
      "execution_count": 14,
      "outputs": [
        {
          "output_type": "stream",
          "name": "stdout",
          "text": [
            "--------------\n",
            "THERE ARE 10 DEPARTMENTS:\n",
            "--------------\n",
            "+ babies (1 product)\n",
            "+ beverages (5 products)\n",
            "+ dairy eggs (1 product)\n",
            "+ dry goods pasta (1 product)\n",
            "+ frozen (4 products)\n",
            "+ household (1 product)\n",
            "+ meat seafood (1 product)\n",
            "+ pantry (2 products)\n",
            "+ personal care (2 products)\n",
            "+ snacks (2 products)\n"
          ]
        }
      ]
    }
  ]
}