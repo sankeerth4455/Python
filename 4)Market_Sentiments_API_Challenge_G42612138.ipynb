{
  "nbformat": 4,
  "nbformat_minor": 0,
  "metadata": {
    "colab": {
      "provenance": []
    },
    "kernelspec": {
      "name": "python3",
      "display_name": "Python 3"
    },
    "language_info": {
      "name": "python"
    }
  },
  "cells": [
    {
      "cell_type": "markdown",
      "source": [
        "For this exercise, we will request news sentiment data about a given company from the AlphaVantage API, and then display a news feed of articles that are relevant to that company.\n",
        "\n",
        "\n",
        "It may be helpful to take a few minutes to consult the documentation for the [News and Sentiments API endpoint](https://www.alphavantage.co/documentation/#news-sentiment) to learn more, and make a plan, before developing a solution.\n",
        "\n",
        "The scratch work section at bottom provides a step by step walk-through of the development process. The solution / dashboard section asks you to re-implement the same code, but packaged up within the context of an interactive dashboard.\n",
        "\n"
      ],
      "metadata": {
        "id": "AfqHoHor_3ED"
      }
    },
    {
      "cell_type": "markdown",
      "source": [
        "## Requirements"
      ],
      "metadata": {
        "id": "ggI1E00LBGDZ"
      }
    },
    {
      "cell_type": "markdown",
      "source": [
        "\n",
        "Define a function called `display_articles`. The function should accept a string parameter called `symbol` and a float parameter called `min_relevance` (with assumed value between 0 and 1). Within the function definition, assign your own desired default values for each of these parameters.\n",
        "\n",
        "When invoked (for example using the Stocks Selection Form), the function should A) fetch news sentiments data about the given company, and B) display summary information about all articles that have a high relevance for this company (i.e. **only those articles with a ticker-specific relevance score greater than the specified minimum value**).\n",
        "\n",
        "For any article that meets the criteria, the function should specifically display the following information about that article:\n",
        "\n",
        "  + **Title**\n",
        "  + **Source**\n",
        "  + **Author** (just the first one is fine)\n",
        "  + **Image** (ideally displayed using [`IPython.display`](https://github.com/prof-rossetti/intro-to-python/blob/main/notes/python/packages/ipython.md#displaying-images))\n",
        "  + **Summary**\n",
        "  + **URL**\n",
        "  + **Ticker-Specific Sentiment Score** (for the selected company only)\n",
        "  + **Ticker-Specific Relevance Score** (for the selected company only)\n",
        "\n"
      ],
      "metadata": {
        "id": "NPZ2xMKYBHkF"
      }
    },
    {
      "cell_type": "markdown",
      "source": [
        "\n",
        "Here is an example output:\n",
        "\n",
        "<img height=\"400\" alt=\"Screenshot 2023-09-25 at 4 41 20 PM\" src=\"https://github.com/prof-rossetti/intro-to-python/assets/1328807/1a9caf8a-e31c-49e6-add8-89ac50a4b9b6\">\n",
        "\n",
        "> NOTE: your results will look different depending on when you run the dashboard"
      ],
      "metadata": {
        "id": "YjCWJrhZE_Yu"
      }
    },
    {
      "cell_type": "markdown",
      "source": [
        "## Evaluation"
      ],
      "metadata": {
        "id": "EAlBKEed8iST"
      }
    },
    {
      "cell_type": "markdown",
      "source": [
        "Submissions will be evaluated according to the \"Requirements\" section below, as represented by the following rubric:\n",
        "\n",
        "Category | Requirement | Weight\n",
        "--- | --- | ---\n",
        "Security | Securely handles the API Key. Avoids exposure by asking for a secure input, and avoids printing or hard-coding the key. | 20%\n",
        "Function | Function works properly and all solution code is packaged inside. | 25%\n",
        "Info Outputs | Presents all desired article summary information, ideally in a clear way with clean formatting. | 40%\n",
        "Info Outputs | Displays article images, as applicable | 10%\n",
        "\n",
        "This rubric is tentative, and may be subject to slight adjustments during the grading process.\n",
        "\n",
        "If experiencing execution error(s) while evaluating the application's required functionality, evaluators are advised to reduce the project's grade by between 4% and 25%, depending on the circumstances and severity of the error(s).\n",
        "\n"
      ],
      "metadata": {
        "id": "yJosJ5Qv8kj8"
      }
    },
    {
      "cell_type": "markdown",
      "source": [
        "## Setup\n"
      ],
      "metadata": {
        "id": "OIH1FeThxMn_"
      }
    },
    {
      "cell_type": "markdown",
      "source": [
        "### API Key\n"
      ],
      "metadata": {
        "id": "msvuiCfV_Rlq"
      }
    },
    {
      "cell_type": "markdown",
      "source": [
        "\n",
        "\n",
        "Obtain a free AlphaVantage API Key, or use one of the prof's premium keys, and supply it via the cell below. Your code should reference this `API_KEY` variable when making requests."
      ],
      "metadata": {
        "id": "E7LM9kwAiZKj"
      }
    },
    {
      "cell_type": "code",
      "source": [
        "from getpass import getpass\n",
        "\n",
        "API_KEY = getpass(\"Please input your AlphaVantage API Key: \") or \"demo\""
      ],
      "metadata": {
        "id": "volez18go4Xw",
        "colab": {
          "base_uri": "https://localhost:8080/"
        },
        "outputId": "5b576658-1683-404c-8f02-afeae0bfdbc0"
      },
      "execution_count": null,
      "outputs": [
        {
          "name": "stdout",
          "output_type": "stream",
          "text": [
            "Please input your AlphaVantage API Key: ··········\n"
          ]
        }
      ]
    },
    {
      "cell_type": "markdown",
      "source": [
        "## Dashboard / Solution"
      ],
      "metadata": {
        "id": "8x6uXETRmZu9"
      }
    },
    {
      "cell_type": "markdown",
      "source": [
        "> NOTE: you may want to first develop your solution using the scratch work section at the bottom. Then when you are done and satisfied with your code, return to this section to package up your code in a working function and dashboard interface.\n",
        "\n",
        "> NOTE: Only the code in this solution section will be evaluated. All solution code needs to be packaged inside the function so that it is executed when the function is invoked!\n"
      ],
      "metadata": {
        "id": "wceut1AizhXQ"
      }
    },
    {
      "cell_type": "code",
      "source": [
        "# import requests\n",
        "# import json\n",
        "\n",
        "import requests\n",
        "import json\n",
        "from IPython.display import Image, display\n",
        "\n",
        "def display_articles(symbol, min_relevance):\n",
        "    request_url = f'https://www.alphavantage.co/query?function=NEWS_SENTIMENT&tickers={symbol}&apikey=ZA7MCBB2Y439DIXR'\n",
        "    response = requests.get(request_url)\n",
        "    data = response.json()\n",
        "    articles = data[\"feed\"]\n",
        "    print(\"The number of articles are:\",len(articles))\n",
        "    print(\"------------------\")\n",
        "    for i in articles:\n",
        "        for j in i[\"ticker_sentiment\"]:\n",
        "            if j[\"ticker\"] == symbol and j[\"relevance_score\"] > str(min_relevance):\n",
        "                print(\"Title :\",i[\"title\"].title())\n",
        "                if any(i[\"authors\"]):\n",
        "                    print(\"Author :\",i[\"authors\"][0].title())\n",
        "                if i[\"banner_image\"] == None:\n",
        "                    print(\"No Banner Image\")\n",
        "                else:\n",
        "                    display(Image(url=i[\"banner_image\"], height=100))\n",
        "                print(\"Summary :\",i[\"summary\"].title())\n",
        "                print(\"URL :\",i[\"url\"])\n",
        "                print(\"Ticker-Specific Sentiment Score :\",j[\"ticker_sentiment_score\"])\n",
        "                print(\"Ticker-Specific Relevance Score :\",j[\"relevance_score\"])\n",
        "                print(\"------------------------\")"
      ],
      "metadata": {
        "id": "XAg8z2xnpcCz"
      },
      "execution_count": null,
      "outputs": []
    },
    {
      "cell_type": "markdown",
      "source": [
        "### Stock Selection Form"
      ],
      "metadata": {
        "id": "frkQ-V4NxBR6"
      }
    },
    {
      "cell_type": "code",
      "source": [
        "#@markdown Select a stock and a minimum relevance threshold. Then run the cell to display news artices relevant to that company.\n",
        "\n",
        "symbol = \"NFLX\"  #@param ['AAPL', 'GOOG', 'MSFT', 'NFLX']\n",
        "min_relevance = 0.5  #@param {type: \"slider\", min: 0, max: 1, step: 0.1}\n",
        "\n",
        "display_articles(symbol=symbol, min_relevance=min_relevance)"
      ],
      "metadata": {
        "colab": {
          "base_uri": "https://localhost:8080/",
          "height": 749
        },
        "id": "Zm28YXBAo71-",
        "outputId": "051af5da-7e4c-42aa-81c3-d33148550658"
      },
      "execution_count": null,
      "outputs": [
        {
          "output_type": "stream",
          "name": "stdout",
          "text": [
            "The number of articles are: 50\n",
            "------------------\n",
            "Title : Netflix Stock Jumps As Company Contemplates Price Increases: The Details - Netflix  ( Nasdaq:Nflx ) \n",
            "Author : Adam Eckert\n"
          ]
        },
        {
          "output_type": "display_data",
          "data": {
            "text/html": [
              "<img src=\"https://cdn.benzinga.com/files/images/story/2023/10/03/tv-5571609_1920-2.jpg?width=1200&height=800&fit=crop\" height=\"100\"/>"
            ],
            "text/plain": [
              "<IPython.core.display.Image object>"
            ]
          },
          "metadata": {}
        },
        {
          "output_type": "stream",
          "name": "stdout",
          "text": [
            "Summary : Netflix Inc Nflx Shares Are Trading Higher Tuesday Following A Report Suggesting The Company Plans To Raise Prices After The Actors Strike Ends. What To Know: According To A Wall Street Journal Report, Netflix Will Raise The Price Of Its Ad-Free Service A Few Months After The Hollywood Actors ...\n",
            "URL : https://www.benzinga.com/news/23/10/35065382/netflix-stock-jumps-as-company-contemplates-price-increases-the-details\n",
            "Ticker-Specific Sentiment Score : -0.020904\n",
            "Ticker-Specific Relevance Score : 0.87744\n",
            "------------------------\n",
            "Title : Netflix Plans To Increase Price Of Ad-Free Service Once The Actors Strike Ends: Wsj\n",
            "Author : Ciara Linnane\n"
          ]
        },
        {
          "output_type": "display_data",
          "data": {
            "text/html": [
              "<img src=\"https://images.mktw.net/im-861751/social\" height=\"100\"/>"
            ],
            "text/plain": [
              "<IPython.core.display.Image object>"
            ]
          },
          "metadata": {}
        },
        {
          "output_type": "stream",
          "name": "stdout",
          "text": [
            "Summary : T He Streaming Giant Is Discussing Price Hikes In A Number Of Markets, But Will Likely Kick Them Off In The U.S. And Canada, The Paper Reported.\n",
            "URL : https://www.marketwatch.com/story/netflix-plans-to-increase-price-of-ad-free-service-once-the-actors-strike-ends-wsj-55aa7050\n",
            "Ticker-Specific Sentiment Score : -0.208623\n",
            "Ticker-Specific Relevance Score : 0.798255\n",
            "------------------------\n",
            "Title : Looking At Netflix'S Recent Unusual Options Activity - Netflix  ( Nasdaq:Nflx ) \n",
            "Author : Benzinga Insights\n"
          ]
        },
        {
          "output_type": "display_data",
          "data": {
            "text/html": [
              "<img src=\"https://cdn.benzinga.com/files/images/story/2023/movers_image_0.jpeg?width=1200&height=800&fit=crop\" height=\"100\"/>"
            ],
            "text/plain": [
              "<IPython.core.display.Image object>"
            ]
          },
          "metadata": {}
        },
        {
          "output_type": "stream",
          "name": "stdout",
          "text": [
            "Summary : A Whale With A Lot Of Money To Spend Has Taken A Noticeably Bullish Stance On Netflix. Looking At Options History For Netflix Nflx We Detected 11 Strange Trades. If We Consider The Specifics Of Each Trade, It Is Accurate To State That 72% Of The Investors Opened Trades With Bullish Expectations ...\n",
            "URL : https://www.benzinga.com/markets/options/23/10/35032020/looking-at-netflixs-recent-unusual-options-activity\n",
            "Ticker-Specific Sentiment Score : 0.364908\n",
            "Ticker-Specific Relevance Score : 0.862496\n",
            "------------------------\n"
          ]
        }
      ]
    },
    {
      "cell_type": "markdown",
      "source": [
        "## Walkthrough / Scratch Work"
      ],
      "metadata": {
        "id": "jy0_dkxerqQd"
      }
    },
    {
      "cell_type": "code",
      "source": [
        "import requests\n",
        "import json\n",
        "from getpass import getpass"
      ],
      "metadata": {
        "id": "lZLwyNTIdsY7"
      },
      "execution_count": null,
      "outputs": []
    },
    {
      "cell_type": "code",
      "source": [
        "API_KEY = getpass(\"Please input your AlphaVantage API Key: \")"
      ],
      "metadata": {
        "colab": {
          "base_uri": "https://localhost:8080/"
        },
        "id": "YtxDtRIddkLU",
        "outputId": "99ec8ad7-1bd4-4d2a-9436-7930afd27e18"
      },
      "execution_count": null,
      "outputs": [
        {
          "name": "stdout",
          "output_type": "stream",
          "text": [
            "Please input your AlphaVantage API Key: ··········\n"
          ]
        }
      ]
    },
    {
      "cell_type": "code",
      "source": [
        "url = url = f'https://www.alphavantage.co/query?function=NEWS_SENTIMENT&tickers=NFLX&apikey={API_KEY}'\n",
        "request = requests.get(url)\n",
        "data = request.json()"
      ],
      "metadata": {
        "id": "Rc3zbcc-doo5"
      },
      "execution_count": null,
      "outputs": []
    },
    {
      "cell_type": "markdown",
      "source": [
        "Feel free to use the section below for scratch work, which will not be evaluated.\n",
        "\n",
        "If there is any solution code make sure to include it in the \"Solution\" section above instead!"
      ],
      "metadata": {
        "id": "ljz1uhFKBtFt"
      }
    },
    {
      "cell_type": "markdown",
      "source": [
        "\n",
        "A) Ask the user to input a stock symbol (i.e. \"NFLX\") and store it in a variable called `symbol`. Then print the selected symbol. Assume the user inputs a valid symbol (i.e. no need for validations).\n"
      ],
      "metadata": {
        "id": "jpkyjKg1juYm"
      }
    },
    {
      "cell_type": "code",
      "source": [
        "import requests\n",
        "import json\n",
        "from getpass import getpass\n",
        "from IPython.display import Image, display"
      ],
      "metadata": {
        "id": "dzjxYtuA18r3"
      },
      "execution_count": null,
      "outputs": []
    },
    {
      "cell_type": "code",
      "source": [
        "symbol = input(\"Please select the ticker symbol: \",)\n",
        "symbol = symbol.upper()"
      ],
      "metadata": {
        "colab": {
          "base_uri": "https://localhost:8080/"
        },
        "id": "0_RxYfIbEhZQ",
        "outputId": "11f07171-eb1c-43dd-b604-907b51ca207a"
      },
      "execution_count": null,
      "outputs": [
        {
          "output_type": "stream",
          "name": "stdout",
          "text": [
            "Please select the ticker symbol: nflx\n",
            "nflx\n"
          ]
        }
      ]
    },
    {
      "cell_type": "markdown",
      "source": [
        "B) After consulting the API docs, find the desired request URL for Market News and Sentiments, and create a string variable called `request_url` to represent this URL. Use string concatenation or a format string to join the `symbol` variable from Part A with the prodived `API_KEY` variable from the setup cell. Assume the user has input a valid API Key (i.e. no need for validations).\n",
        "\n",
        "> NOTE: To include news across all categories, let's not supply any topic related parameters in our requests. The only URL parameters we should need are `function` and `tickers` and `apikey` (ignore all other params). See example provided below."
      ],
      "metadata": {
        "id": "R7GTe028jv1G"
      }
    },
    {
      "cell_type": "code",
      "source": [
        "# request_url = \"https://www.alphavantage.co/query?function=NEWS_SENTIMENT&tickers=TODO&apikey=TODO\"\n",
        "# Entering the API Key\n",
        "API_KEY = getpass(\"Please input your AlphaVantage API Key: \")\n",
        "# creating a variable request_url\n",
        "request_url = f'https://www.alphavantage.co/query?function=NEWS_SENTIMENT&tickers={symbol}&apikey={API_KEY}'\n"
      ],
      "metadata": {
        "id": "johEn5Gls4F0",
        "colab": {
          "base_uri": "https://localhost:8080/"
        },
        "outputId": "c6feb4a7-6b45-4934-8eb5-76f6b7536b8d"
      },
      "execution_count": null,
      "outputs": [
        {
          "name": "stdout",
          "output_type": "stream",
          "text": [
            "Please input your AlphaVantage API Key: ··········\n"
          ]
        }
      ]
    },
    {
      "cell_type": "markdown",
      "source": [
        "\n",
        "C) Using the `request_url` variable from Part B, make an HTTP request for the market news and sentiments about the given company, and store the  response in a variable called `response`. Then convert the resulting JSON-formatted response data into a Python variable called `data`. Access the \"feed\" property of the data and store this in a variable called `articles`. Then print the number of articles (i.e. 50).\n"
      ],
      "metadata": {
        "id": "mYyjmmlUjxPE"
      }
    },
    {
      "cell_type": "code",
      "source": [
        "# Making a http request for the market news and sentiments and storing it in response\n",
        "response = requests.get(request_url)\n",
        "# Conveering respone into the json format\n",
        "data = response.json()\n",
        "# creating a variable called article\n",
        "articles = data[\"feed\"]\n",
        "# Printing the number of articles\n",
        "print(\"The number of articles are:\",len(articles))"
      ],
      "metadata": {
        "id": "PZjmq6S6kRpb",
        "colab": {
          "base_uri": "https://localhost:8080/"
        },
        "outputId": "4568f5bc-ba58-483f-c86a-56633cc15e38"
      },
      "execution_count": null,
      "outputs": [
        {
          "output_type": "stream",
          "name": "stdout",
          "text": [
            "The number of articles are: 50\n"
          ]
        }
      ]
    },
    {
      "cell_type": "markdown",
      "source": [
        "\n",
        "\n",
        "\n",
        "\n",
        "\n",
        "D) Loop through the first three articles and print the following information about each:\n",
        "  + **Title**\n",
        "  + **Author** (just the first one is fine)\n",
        "  + **Image** (ideally displayed using [`IPython.display`](https://github.com/prof-rossetti/intro-to-python/blob/main/notes/python/packages/ipython.md#displaying-images))\n",
        "  + **Summary**\n",
        "  + **URL**\n",
        "  + **Ticker-Specific Sentiment Score** (for the selected company only)\n",
        "  + **Ticker-Specific Relevance Score** (for the selected company only)\n",
        "\n"
      ],
      "metadata": {
        "id": "V6wchUMeiEtK"
      }
    },
    {
      "cell_type": "code",
      "source": [
        "# Extracting information from articles\n",
        "for i in articles[0:3]:\n",
        "    print(\"Title :\",i[\"title\"].title())\n",
        "    if any(i[\"authors\"]):\n",
        "        print(\"Author :\",i[\"authors\"][0].title())\n",
        "    if i[\"banner_image\"] == None:\n",
        "        print(\"No Banner Image\")\n",
        "    else:\n",
        "        display(Image(url=i[\"banner_image\"], height=100))\n",
        "    print(\"Summary :\",i[\"summary\"].title())\n",
        "    print(\"URL :\",i[\"url\"])\n",
        "    for j in i[\"ticker_sentiment\"]:\n",
        "        if j[\"ticker\"] == symbol:\n",
        "            print(\"Ticker-Specific Sentiment Score :\",j[\"ticker_sentiment_score\"])\n",
        "    for j in i[\"ticker_sentiment\"]:\n",
        "        if j[\"ticker\"] == symbol:\n",
        "            print(\"Ticker-Specific Relevance Score :\",j[\"relevance_score\"])\n",
        "    print(\"------------------------\")"
      ],
      "metadata": {
        "id": "TpVpgSPJvEJZ",
        "colab": {
          "base_uri": "https://localhost:8080/",
          "height": 715
        },
        "outputId": "101c8e72-1562-4b78-80ec-d4b2d2f2357f"
      },
      "execution_count": null,
      "outputs": [
        {
          "output_type": "stream",
          "name": "stdout",
          "text": [
            "Title : Trading Faang Stocks: A Breakout Trading System For Google Stocks - Meta Platforms  ( Nasdaq:Meta ) \n",
            "Author : Andrea Unger\n"
          ]
        },
        {
          "output_type": "display_data",
          "data": {
            "text/html": [
              "<img src=\"https://cdn.benzinga.com/files/wance-paleri-nnrirq1usyw-unsplash_3_20.jpg?width=1200&height=800&fit=crop\" height=\"100\"/>"
            ],
            "text/plain": [
              "<IPython.core.display.Image object>"
            ]
          },
          "metadata": {}
        },
        {
          "output_type": "stream",
          "name": "stdout",
          "text": [
            "Summary : In This Article, We Will Show You How To Trade The U.S. Stock Market Using A Simple But Effective Trading System Based On A Break-Out Approach And Able To Exploit The Main Upward Movements Of This Market.\n",
            "URL : https://www.benzinga.com/23/10/35067285/trading-faang-stocks-a-breakout-trading-system-for-google-stocks\n",
            "Ticker-Specific Sentiment Score : 0.068909\n",
            "Ticker-Specific Relevance Score : 0.129284\n",
            "------------------------\n",
            "Title : Robots, Ufos, And A.I. Converge At The Brooklyn Scifi Film Festival For 2023 With 130 Films Online And In Theaters\n",
            "Author : Pr.Com\n"
          ]
        },
        {
          "output_type": "display_data",
          "data": {
            "text/html": [
              "<img src=\"https://www.benzinga.com/next-assets/images/schema-image-default.png\" height=\"100\"/>"
            ],
            "text/plain": [
              "<IPython.core.display.Image object>"
            ]
          },
          "metadata": {}
        },
        {
          "output_type": "stream",
          "name": "stdout",
          "text": [
            "Summary : Brooklyn, Ny October 03, 2023 -- ( Pr.Com ) -- The Brooklyn Scifi Film Festival Returns For 2023 With 135 Films Selected For Screening October 9 Through The 15Th.\n",
            "URL : https://www.benzinga.com/pressreleases/23/10/r35066931/robots-ufos-and-a-i-converge-at-the-brooklyn-scifi-film-festival-for-2023-with-130-films-online-an\n",
            "Ticker-Specific Sentiment Score : 0.218036\n",
            "Ticker-Specific Relevance Score : 0.096671\n",
            "------------------------\n",
            "Title : Reshaping The Tv And Film Industry: The Ittv International Forum Hawks Creativity, Innovation And New Technologies\n",
            "Author : Marc Berman\n"
          ]
        },
        {
          "output_type": "display_data",
          "data": {
            "text/html": [
              "<img src=\"https://imageio.forbes.com/specials-images/imageserve/651711164758fc7b71cc23bc/0x0.jpg?format=jpg&width=1200\" height=\"100\"/>"
            ],
            "text/plain": [
              "<IPython.core.display.Image object>"
            ]
          },
          "metadata": {}
        },
        {
          "output_type": "stream",
          "name": "stdout",
          "text": [
            "Summary : By Marc Berman In This Digital Era, Where The Advent Of Streaming Has Resulted In A Massive Defection Of People Consuming Broadcast Television And Film, One Frequently...\n",
            "URL : https://www.forbes.com/sites/marcberman1/2023/10/03/reshaping-the-tv-and-film-industry-the-ittv-international-forum-hawks-creativity-innovation-and-new-technologies/\n",
            "Ticker-Specific Sentiment Score : 0.143541\n",
            "Ticker-Specific Relevance Score : 0.096801\n",
            "------------------------\n"
          ]
        }
      ]
    },
    {
      "cell_type": "markdown",
      "source": [
        "\n",
        "E) Let's only display information for articles that have a high relevance for this company (i.e. those with a ticker-specific relevance score greater than 50%). Display information about all articles that meet this criteria.\n",
        "\n",
        "> NOTE: the API docs mention a parameter related to relevance, however let's ignore this and use the same data that was previously requested.\n",
        "\n"
      ],
      "metadata": {
        "id": "GuCvkfq1j0Ep"
      }
    },
    {
      "cell_type": "code",
      "source": [
        "# Extracting information from articles\n",
        "for i in articles:\n",
        "    for j in i[\"ticker_sentiment\"]:\n",
        "        if j[\"ticker\"] == symbol and j[\"relevance_score\"] > \"0.50\":\n",
        "            print(\"Title :\",i[\"title\"].title())\n",
        "            if any(i[\"authors\"]):\n",
        "                print(\"Author :\",i[\"authors\"][0].title())\n",
        "            if i[\"banner_image\"] == None:\n",
        "                print(\"No Banner Image\")\n",
        "            else:\n",
        "                display(Image(url=i[\"banner_image\"], height=100))\n",
        "            print(\"Summary :\",i[\"summary\"].title())\n",
        "            print(\"URL :\",i[\"url\"])\n",
        "            print(\"Ticker-Specific Sentiment Score :\",j[\"ticker_sentiment_score\"])\n",
        "            print(\"Ticker-Specific Relevance Score :\",j[\"relevance_score\"])\n",
        "            print(\"------------------------\")"
      ],
      "metadata": {
        "id": "M5nFf7rzofM3",
        "colab": {
          "base_uri": "https://localhost:8080/",
          "height": 715
        },
        "outputId": "ac46bad5-b9a5-4aae-9751-ff567320128c"
      },
      "execution_count": null,
      "outputs": [
        {
          "output_type": "stream",
          "name": "stdout",
          "text": [
            "Title : Netflix Stock Jumps As Company Contemplates Price Increases: The Details - Netflix  ( Nasdaq:Nflx ) \n",
            "Author : Adam Eckert\n"
          ]
        },
        {
          "output_type": "display_data",
          "data": {
            "text/html": [
              "<img src=\"https://cdn.benzinga.com/files/images/story/2023/10/03/tv-5571609_1920-2.jpg?width=1200&height=800&fit=crop\" height=\"100\"/>"
            ],
            "text/plain": [
              "<IPython.core.display.Image object>"
            ]
          },
          "metadata": {}
        },
        {
          "output_type": "stream",
          "name": "stdout",
          "text": [
            "Summary : Netflix Inc Nflx Shares Are Trading Higher Tuesday Following A Report Suggesting The Company Plans To Raise Prices After The Actors Strike Ends. What To Know: According To A Wall Street Journal Report, Netflix Will Raise The Price Of Its Ad-Free Service A Few Months After The Hollywood Actors ...\n",
            "URL : https://www.benzinga.com/news/23/10/35065382/netflix-stock-jumps-as-company-contemplates-price-increases-the-details\n",
            "Ticker-Specific Sentiment Score : -0.020904\n",
            "Ticker-Specific Relevance Score : 0.87744\n",
            "------------------------\n",
            "Title : Netflix Plans To Increase Price Of Ad-Free Service Once The Actors Strike Ends: Wsj\n",
            "Author : Ciara Linnane\n"
          ]
        },
        {
          "output_type": "display_data",
          "data": {
            "text/html": [
              "<img src=\"https://images.mktw.net/im-861751/social\" height=\"100\"/>"
            ],
            "text/plain": [
              "<IPython.core.display.Image object>"
            ]
          },
          "metadata": {}
        },
        {
          "output_type": "stream",
          "name": "stdout",
          "text": [
            "Summary : T He Streaming Giant Is Discussing Price Hikes In A Number Of Markets, But Will Likely Kick Them Off In The U.S. And Canada, The Paper Reported.\n",
            "URL : https://www.marketwatch.com/story/netflix-plans-to-increase-price-of-ad-free-service-once-the-actors-strike-ends-wsj-55aa7050\n",
            "Ticker-Specific Sentiment Score : -0.208623\n",
            "Ticker-Specific Relevance Score : 0.798255\n",
            "------------------------\n",
            "Title : Looking At Netflix'S Recent Unusual Options Activity - Netflix  ( Nasdaq:Nflx ) \n",
            "Author : Benzinga Insights\n"
          ]
        },
        {
          "output_type": "display_data",
          "data": {
            "text/html": [
              "<img src=\"https://cdn.benzinga.com/files/images/story/2023/movers_image_0.jpeg?width=1200&height=800&fit=crop\" height=\"100\"/>"
            ],
            "text/plain": [
              "<IPython.core.display.Image object>"
            ]
          },
          "metadata": {}
        },
        {
          "output_type": "stream",
          "name": "stdout",
          "text": [
            "Summary : A Whale With A Lot Of Money To Spend Has Taken A Noticeably Bullish Stance On Netflix. Looking At Options History For Netflix Nflx We Detected 11 Strange Trades. If We Consider The Specifics Of Each Trade, It Is Accurate To State That 72% Of The Investors Opened Trades With Bullish Expectations ...\n",
            "URL : https://www.benzinga.com/markets/options/23/10/35032020/looking-at-netflixs-recent-unusual-options-activity\n",
            "Ticker-Specific Sentiment Score : 0.364908\n",
            "Ticker-Specific Relevance Score : 0.862496\n",
            "------------------------\n"
          ]
        }
      ]
    }
  ]
}