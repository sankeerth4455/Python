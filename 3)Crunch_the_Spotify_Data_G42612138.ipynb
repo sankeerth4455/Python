{
  "nbformat": 4,
  "nbformat_minor": 0,
  "metadata": {
    "colab": {
      "provenance": []
    },
    "kernelspec": {
      "name": "python3",
      "display_name": "Python 3"
    }
  },
  "cells": [
    {
      "cell_type": "markdown",
      "source": [
        "\n",
        "> NOTE: the data used in this exercise is based on data from the Spotify API."
      ],
      "metadata": {
        "id": "0vgp3Mdx18gA"
      }
    },
    {
      "cell_type": "markdown",
      "metadata": {
        "id": "Oqu9eSWa0FPi"
      },
      "source": [
        "# Instructions\n"
      ]
    },
    {
      "cell_type": "markdown",
      "metadata": {
        "id": "Ay0cqN_Loiww"
      },
      "source": [
        "1. **Make a copy of this notebook** so you can edit and save your own version of it.  You'll do the work in your copy of the notebook.\n",
        "\n",
        "2. Be aware of some **example image display code** provided at the bottom of this notebook in the \"Scratch work\" section.\n",
        "\n",
        "3. **Complete the challenges** (below). For each challenge:\n",
        "    + **Run the \"Setup\" cell** to define the provided variable\n",
        "    + **Write Python code** in cell(s) below to answer each of the provided questions.  Use any number of cells for your solution.\n",
        "\n",
        "\n",
        "\n"
      ]
    },
    {
      "cell_type": "markdown",
      "source": [
        "# Collaboration"
      ],
      "metadata": {
        "id": "CBnJsEBIzUBS"
      }
    },
    {
      "cell_type": "markdown",
      "source": [
        "Feel free to discuss this exercise with classmates, and even to help each other out in reasonable ways.\n",
        "\n",
        "If you obtain code or \"inspiration\" for code from an outside source, let's endeavor to **A) provide a citation or attribution comment** like the following:\n",
        "\n",
        "  + \"Student XYZ (xyz@school.edu) helped with this section\"\n",
        "  + \"Inspired by code from Robot XYZ\"\n",
        "  + \"Adapted from code found at URL: _________\"\n",
        "\n",
        "Citations like this will go a long way to foster a culture of transparency and help avoid academic integrity concerns.\n",
        "\n",
        "For any code obtained this way, also **provide code comments discussing B) your own interpretation of the code, and C) your lessons learned**.\n",
        "\n",
        "If you have any questions, please ask. Thank you!"
      ],
      "metadata": {
        "id": "o2N_neLYzVgo"
      }
    },
    {
      "cell_type": "markdown",
      "source": [
        "# Evaluation"
      ],
      "metadata": {
        "id": "8BpjusPjzSkD"
      }
    },
    {
      "cell_type": "markdown",
      "source": [
        "Submissions will be graded according to the rubric below:\n",
        "\n",
        "challenge | question | weight\n",
        "--- | --- | ---\n",
        "Challenge 1 (Album) | Question A: album name | 10%\n",
        "Challenge 1 (Album) | Question B: release date | 10%\n",
        "Challenge 1 (Album) | Question C: artist name | 10%\n",
        "Challenge 1 (Album) | Question D: number of markets | 10%\n",
        "Challenge 1 (Album) | Question E: album art | 10%\n",
        "Challenge 2 (Tracks) | Question A: tracks count | 10%\n",
        "Challenge 2 (Tracks) | Question B: tracks loop | 10%\n",
        "Challenge 2 (Tracks) | Question C: Taylor's tracks | 10%\n",
        "Challenge 2 (Tracks) | Question D: Taylor's top tracks (displaying top five only) | 10%\n",
        "Challenge 2 (Tracks) | Question D: Taylor's top tracks (all other aspects of the question) | 10%\n",
        "Challenge 3 (Optional Bonus) | Your own unique and creative challenge (Optional Bonus) | +15%\n",
        "\n",
        "\n",
        "> NOTE: This rubric is tentative, and may be subject to slight adjustments during the grading process.\n",
        "\n",
        "\n"
      ],
      "metadata": {
        "id": "_aV4JArazWFa"
      }
    },
    {
      "cell_type": "markdown",
      "metadata": {
        "id": "ZVzPjgdN4mb8"
      },
      "source": [
        "# Challenges"
      ]
    },
    {
      "cell_type": "markdown",
      "metadata": {
        "id": "jkFPIYgmG6ag"
      },
      "source": [
        "## Challenge 1 (Album)\n"
      ]
    },
    {
      "cell_type": "markdown",
      "source": [
        "Run this setup cell below with the `album` variable."
      ],
      "metadata": {
        "id": "nwMGbP672sNq"
      }
    },
    {
      "cell_type": "code",
      "metadata": {
        "id": "kKN3iQxMA_BG",
        "colab": {
          "base_uri": "https://localhost:8080/"
        },
        "outputId": "9863c6ba-8d7c-4706-d75c-7d134c93cf5a"
      },
      "source": [
        "# @title\n",
        "#\n",
        "# SETUP CELL\n",
        "# ... leave this cell as-is\n",
        "# ... run this cell to store the value of this variable in memory (so you can reference it later)\n",
        "#\n",
        "\n",
        "album = {\n",
        "    'album_type': 'album',\n",
        "    'artists': [\n",
        "        {\n",
        "            'external_urls': {'spotify': 'https://open.spotify.com/artist/06HL4z0CvFAxyc27GXpf02'},\n",
        "            'href': 'https://api.spotify.com/v1/artists/06HL4z0CvFAxyc27GXpf02',\n",
        "            'id': '06HL4z0CvFAxyc27GXpf02',\n",
        "            'name': 'Taylor Swift',\n",
        "            'type': 'artist',\n",
        "            'uri': 'spotify:artist:06HL4z0CvFAxyc27GXpf02'\n",
        "        }\n",
        "    ],\n",
        "    'available_markets': [\n",
        "        'AD', 'AE', 'AG', 'AL', 'AM', 'AO', 'AR', 'AT', 'AU', 'AZ', 'BA', 'BB',\n",
        "        'BD', 'BE', 'BF', 'BG', 'BH', 'BI', 'BJ', 'BN', 'BO', 'BR', 'BS', 'BT',\n",
        "        'BW', 'BY', 'BZ', 'CA', 'CH', 'CI', 'CL', 'CM', 'CO', 'CR', 'CV', 'CW',\n",
        "        'CY', 'CZ', 'DE', 'DJ', 'DK', 'DM', 'DO', 'DZ', 'EC', 'EE', 'EG', 'ES',\n",
        "        'FI', 'FJ', 'FM', 'FR', 'GA', 'GB', 'GD', 'GE', 'GH', 'GM', 'GN', 'GQ',\n",
        "        'GR', 'GT', 'GW', 'GY', 'HK', 'HN', 'HR', 'HT', 'HU', 'ID', 'IE', 'IL',\n",
        "        'IN', 'IS', 'IT', 'JM', 'JO', 'JP', 'KE', 'KG', 'KH', 'KI', 'KM', 'KN',\n",
        "        'KR', 'KW', 'KZ', 'LA', 'LB', 'LC', 'LI', 'LK', 'LR', 'LS', 'LT', 'LU',\n",
        "        'LV', 'MA', 'MC', 'MD', 'ME', 'MG', 'MH', 'MK', 'ML', 'MN', 'MO', 'MR',\n",
        "        'MT', 'MU', 'MV', 'MW', 'MX', 'MY', 'MZ', 'NA', 'NE', 'NG', 'NI', 'NL',\n",
        "        'NO', 'NP', 'NR', 'NZ', 'OM', 'PA', 'PE', 'PG', 'PH', 'PK', 'PL', 'PS',\n",
        "        'PT', 'PW', 'PY', 'QA', 'RO', 'RS', 'RU', 'RW', 'SA', 'SB', 'SC', 'SE',\n",
        "        'SG', 'SI', 'SK', 'SL', 'SM', 'SN', 'SR', 'ST', 'SV', 'SZ', 'TD', 'TG',\n",
        "        'TH', 'TL', 'TN', 'TO', 'TR', 'TT', 'TV', 'TW', 'TZ', 'UA', 'UG', 'US',\n",
        "        'UY', 'UZ', 'VC', 'VN', 'VU', 'WS', 'XK', 'ZA', 'ZM', 'ZW'\n",
        "    ],\n",
        "    'external_urls': {'spotify': 'https://open.spotify.com/album/1NAmidJlEaVgA3MpcPFYGq'},\n",
        "    'id': '1NAmidJlEaVgA3MpcPFYGq',\n",
        "    'images': [\n",
        "        {'height': 640, 'width': 640, 'url': 'https://i.scdn.co/image/ab67616d0000b273e787cffec20aa2a396a61647'},\n",
        "        {'height': 300, 'width': 300, 'url': 'https://i.scdn.co/image/ab67616d00001e02e787cffec20aa2a396a61647'},\n",
        "        {'height': 64, 'width': 64, 'url': 'https://i.scdn.co/image/ab67616d00004851e787cffec20aa2a396a61647'}\n",
        "    ],\n",
        "    'name': 'Lover',\n",
        "    'release_date': '2019-08-23',\n",
        "    'release_date_precision': 'day',\n",
        "    'total_tracks': 18,\n",
        "    'type': 'album',\n",
        "    'uri': 'spotify:album:1NAmidJlEaVgA3MpcPFYGq'\n",
        "}\n",
        "\n",
        "print(album)"
      ],
      "execution_count": null,
      "outputs": [
        {
          "output_type": "stream",
          "name": "stdout",
          "text": [
            "{'album_type': 'album', 'artists': [{'external_urls': {'spotify': 'https://open.spotify.com/artist/06HL4z0CvFAxyc27GXpf02'}, 'href': 'https://api.spotify.com/v1/artists/06HL4z0CvFAxyc27GXpf02', 'id': '06HL4z0CvFAxyc27GXpf02', 'name': 'Taylor Swift', 'type': 'artist', 'uri': 'spotify:artist:06HL4z0CvFAxyc27GXpf02'}], 'available_markets': ['AD', 'AE', 'AG', 'AL', 'AM', 'AO', 'AR', 'AT', 'AU', 'AZ', 'BA', 'BB', 'BD', 'BE', 'BF', 'BG', 'BH', 'BI', 'BJ', 'BN', 'BO', 'BR', 'BS', 'BT', 'BW', 'BY', 'BZ', 'CA', 'CH', 'CI', 'CL', 'CM', 'CO', 'CR', 'CV', 'CW', 'CY', 'CZ', 'DE', 'DJ', 'DK', 'DM', 'DO', 'DZ', 'EC', 'EE', 'EG', 'ES', 'FI', 'FJ', 'FM', 'FR', 'GA', 'GB', 'GD', 'GE', 'GH', 'GM', 'GN', 'GQ', 'GR', 'GT', 'GW', 'GY', 'HK', 'HN', 'HR', 'HT', 'HU', 'ID', 'IE', 'IL', 'IN', 'IS', 'IT', 'JM', 'JO', 'JP', 'KE', 'KG', 'KH', 'KI', 'KM', 'KN', 'KR', 'KW', 'KZ', 'LA', 'LB', 'LC', 'LI', 'LK', 'LR', 'LS', 'LT', 'LU', 'LV', 'MA', 'MC', 'MD', 'ME', 'MG', 'MH', 'MK', 'ML', 'MN', 'MO', 'MR', 'MT', 'MU', 'MV', 'MW', 'MX', 'MY', 'MZ', 'NA', 'NE', 'NG', 'NI', 'NL', 'NO', 'NP', 'NR', 'NZ', 'OM', 'PA', 'PE', 'PG', 'PH', 'PK', 'PL', 'PS', 'PT', 'PW', 'PY', 'QA', 'RO', 'RS', 'RU', 'RW', 'SA', 'SB', 'SC', 'SE', 'SG', 'SI', 'SK', 'SL', 'SM', 'SN', 'SR', 'ST', 'SV', 'SZ', 'TD', 'TG', 'TH', 'TL', 'TN', 'TO', 'TR', 'TT', 'TV', 'TW', 'TZ', 'UA', 'UG', 'US', 'UY', 'UZ', 'VC', 'VN', 'VU', 'WS', 'XK', 'ZA', 'ZM', 'ZW'], 'external_urls': {'spotify': 'https://open.spotify.com/album/1NAmidJlEaVgA3MpcPFYGq'}, 'id': '1NAmidJlEaVgA3MpcPFYGq', 'images': [{'height': 640, 'width': 640, 'url': 'https://i.scdn.co/image/ab67616d0000b273e787cffec20aa2a396a61647'}, {'height': 300, 'width': 300, 'url': 'https://i.scdn.co/image/ab67616d00001e02e787cffec20aa2a396a61647'}, {'height': 64, 'width': 64, 'url': 'https://i.scdn.co/image/ab67616d00004851e787cffec20aa2a396a61647'}], 'name': 'Lover', 'release_date': '2019-08-23', 'release_date_precision': 'day', 'total_tracks': 18, 'type': 'album', 'uri': 'spotify:album:1NAmidJlEaVgA3MpcPFYGq'}\n"
          ]
        }
      ]
    },
    {
      "cell_type": "markdown",
      "metadata": {
        "id": "S-JKOpkHSpfB"
      },
      "source": [
        "\n",
        "Given the Python variable called `album` provided above, write Python code which references that variable to perform each of the following tasks...\n",
        "\n",
        "A) Print the album's name (i.e. `\"Lover\"`).\n",
        "\n",
        "B) Print the date this album was released (i.e. `\"2019-08-23\"`).\n",
        "\n",
        "C) Print the name of this album's artist (i.e.` \"Taylor Swift\"`).\n",
        "\n",
        "> NOTE: let's assume there will always be at least one artist, and the first artist is the one we care about\n",
        "\n",
        "D) Print the number of markets this album is available in (i.e `178`).\n",
        "\n",
        "E) Display this album's \"medium-sized\" album art image.\n",
        "\n",
        "> NOTE: let's assume there are always three images, and they're listed in order from largest to smallest (with the medium size in the middle / second).\n",
        ">\n",
        "> HINT: use the [`IPython.display` module](https://github.com/prof-rossetti/intro-to-python/blob/main/notes/python/packages/ipython.md#displaying-images) to display images\n",
        "\n",
        "\n",
        "\n",
        "Example Output (you can use any number of cells):\n",
        "\n",
        "<img height=450 src=\"https://user-images.githubusercontent.com/1328807/266740884-e02928a5-a899-4a49-a3a8-e7c2ce9bce18.png\">\n",
        "\n",
        "\n"
      ]
    },
    {
      "cell_type": "code",
      "source": [
        "# Importing packages\n",
        "from IPython.display import Image, display\n",
        "\n",
        "print(\"------------------\")\n",
        "print(\"PROCESSING ALBUM DATA...\")\n",
        "print(\"------------------\")\n",
        "\n",
        "# todo: write Python code to answer the questions...\n",
        "# A\n",
        "print(\"ALBUM NAME:\",album['name'])\n",
        "# B\n",
        "print(\"ARTIST NAME:\",album['artists'][0]['name'])\n",
        "# C\n",
        "print(\"RELEASE DATE:\",album['release_date'])\n",
        "# D\n",
        "print(\"AVAILABLE MARKETS:\",len(album['available_markets']))\n",
        "# E\n",
        "display(Image(url=album['images'][0]['url'], height=300))"
      ],
      "metadata": {
        "colab": {
          "base_uri": "https://localhost:8080/",
          "height": 443
        },
        "id": "7Y6nQyjHx0O1",
        "outputId": "35661d74-1681-4684-e6cf-7fc6549a8e80"
      },
      "execution_count": null,
      "outputs": [
        {
          "output_type": "stream",
          "name": "stdout",
          "text": [
            "------------------\n",
            "PROCESSING ALBUM DATA...\n",
            "------------------\n",
            "ALBUM NAME: Lover\n",
            "ARTIST NAME: Taylor Swift\n",
            "RELEASE DATE: 2019-08-23\n",
            "AVAILABLE MARKETS: 178\n"
          ]
        },
        {
          "output_type": "display_data",
          "data": {
            "text/html": [
              "<img src=\"https://i.scdn.co/image/ab67616d0000b273e787cffec20aa2a396a61647\" height=\"300\"/>"
            ],
            "text/plain": [
              "<IPython.core.display.Image object>"
            ]
          },
          "metadata": {}
        }
      ]
    },
    {
      "cell_type": "markdown",
      "metadata": {
        "id": "VMVZ5F3rA0yy"
      },
      "source": [
        "## Challenge 2 (Tracks)\n"
      ]
    },
    {
      "cell_type": "markdown",
      "source": [
        "Run this setup cell with the `tracks` variable:"
      ],
      "metadata": {
        "id": "Uj9DU5-u3Chw"
      }
    },
    {
      "cell_type": "code",
      "metadata": {
        "id": "7mLcsfnESwG1",
        "colab": {
          "base_uri": "https://localhost:8080/"
        },
        "outputId": "41f7a6a1-91b9-4217-9800-d6e8a54a4210"
      },
      "source": [
        "# @title\n",
        "#\n",
        "# SETUP CELL\n",
        "# ... leave this cell as-is\n",
        "# ... run this cell to store the value of this variable in memory (so you can reference it later)\n",
        "#\n",
        "\n",
        "tracks = [\n",
        "    {\n",
        "        'album_name': \"Wildest Dreams (Taylor's Version)\",\n",
        "        'artist_name': 'Taylor Swift',\n",
        "        'disc_number': 1,\n",
        "        'duration_ms': 220433,\n",
        "        'explicit': False,\n",
        "        'external_ids': {'isrc': 'USUG12103658'},\n",
        "        'external_urls': {'spotify': 'https://open.spotify.com/track/1Ov37jtRQ2YNAe8HzfczkL'},\n",
        "        'id': '1Ov37jtRQ2YNAe8HzfczkL',\n",
        "        'name': \"Wildest Dreams (Taylor's Version)\",\n",
        "        'popularity': 87,\n",
        "        'preview_url': None,\n",
        "        'track_number': 1,\n",
        "        'type': 'track',\n",
        "        'uri': 'spotify:track:1Ov37jtRQ2YNAe8HzfczkL'\n",
        "    },\n",
        "    {\n",
        "        'album_name': 'Fearless (Big Machine Radio Release Special)',\n",
        "        'artist_name': 'Taylor Swift',\n",
        "        'disc_number': 1,\n",
        "        'duration_ms': 236266,\n",
        "        'explicit': False,\n",
        "        'external_ids': {'isrc': 'USCJY0803275'},\n",
        "        'external_urls': {'spotify': 'https://open.spotify.com/track/1D4PL9B8gOg78jiHg3FvBb'},\n",
        "        'id': '1D4PL9B8gOg78jiHg3FvBb',\n",
        "        'name': 'Love Story',\n",
        "        'popularity': 74,\n",
        "        'preview_url': None,\n",
        "        'track_number': 6,\n",
        "        'type': 'track',\n",
        "        'uri': 'spotify:track:1D4PL9B8gOg78jiHg3FvBb'\n",
        "    },\n",
        "    {\n",
        "        'album_name': 'Renegade (feat. Taylor Swift)',\n",
        "        'artist_name': 'Big Red Machine',\n",
        "        'disc_number': 1,\n",
        "        'duration_ms': 254466,\n",
        "        'explicit': False,\n",
        "        'external_ids': {'isrc': 'US38Y2141505'},\n",
        "        'external_urls': {'spotify': 'https://open.spotify.com/track/1aU1wpYBSpP0M6IiihY5Ue'},\n",
        "        'id': '1aU1wpYBSpP0M6IiihY5Ue',\n",
        "        'name': 'Renegade (feat. Taylor Swift)',\n",
        "        'popularity': 72,\n",
        "        'preview_url': 'https://p.scdn.co/mp3-preview/e3b1851865f3ee5f213dfd8d950e344e6b14ec8c?cid=d7df2abc82674544a78cb3f39fd7d585',\n",
        "        'track_number': 1,\n",
        "        'type': 'track',\n",
        "        'uri': 'spotify:track:1aU1wpYBSpP0M6IiihY5Ue'\n",
        "    },\n",
        "    {\n",
        "        'album_name': 'Back to School 2021',\n",
        "        'artist_name': 'Taylor Swift',\n",
        "        'disc_number': 1,\n",
        "        'duration_ms': 235766,\n",
        "        'explicit': False,\n",
        "        'external_ids': {'isrc': 'USUG12100342'},\n",
        "        'external_urls': {'spotify': 'https://open.spotify.com/track/2HbOu4weHYlchWzQ2DTOSU'},\n",
        "        'id': '2HbOu4weHYlchWzQ2DTOSU',\n",
        "        'name': 'Love Story (Taylor’s Version)',\n",
        "        'popularity': 0,\n",
        "        'preview_url': None,\n",
        "        'track_number': 24,\n",
        "        'type': 'track',\n",
        "        'uri': 'spotify:track:2HbOu4weHYlchWzQ2DTOSU'\n",
        "    },\n",
        "    {\n",
        "        'album_name': 'Red (Big Machine Radio Release Special)',\n",
        "        'artist_name': 'Taylor Swift',\n",
        "        'disc_number': 1,\n",
        "        'duration_ms': 219720,\n",
        "        'explicit': False,\n",
        "        'external_ids': {'isrc': 'USCJY1231039'},\n",
        "        'external_urls': {'spotify': 'https://open.spotify.com/track/6FB3v4YcR57y4tXFcdxI1E'},\n",
        "        'id': '6FB3v4YcR57y4tXFcdxI1E',\n",
        "        'name': 'I Knew You Were Trouble.',\n",
        "        'popularity': 78,\n",
        "        'preview_url': None,\n",
        "        'track_number': 8,\n",
        "        'type': 'track',\n",
        "        'uri': 'spotify:track:6FB3v4YcR57y4tXFcdxI1E'\n",
        "    },\n",
        "    {\n",
        "        'album_name': 'Anthem Lights Covers Part II',\n",
        "        'artist_name': 'Anthem Lights',\n",
        "        'disc_number': 1,\n",
        "        'duration_ms': 279331,\n",
        "        'explicit': False,\n",
        "        'external_ids': {'isrc': 'TCABR1323521'},\n",
        "        'external_urls': {'spotify': 'https://open.spotify.com/track/1SSj8VnmFs7jDDGUddEOoY'},\n",
        "        'id': '1SSj8VnmFs7jDDGUddEOoY',\n",
        "        'name': 'Taylor Swift Mash-Up',\n",
        "        'popularity': 47,\n",
        "        'preview_url': 'https://p.scdn.co/mp3-preview/be6c87401b204fe3108907311af75d25b7ea4666?cid=d7df2abc82674544a78cb3f39fd7d585',\n",
        "        'track_number': 7,\n",
        "        'type': 'track',\n",
        "        'uri': 'spotify:track:1SSj8VnmFs7jDDGUddEOoY'\n",
        "    },\n",
        "    {\n",
        "        'album_name': '1989',\n",
        "        'artist_name': 'Taylor Swift',\n",
        "        'disc_number': 1,\n",
        "        'duration_ms': 220440,\n",
        "        'explicit': False,\n",
        "        'external_ids': {'isrc': 'USCJY1431379'},\n",
        "        'external_urls': {'spotify': 'https://open.spotify.com/track/59HjlYCeBsxdI0fcm3zglw'},\n",
        "        'id': '59HjlYCeBsxdI0fcm3zglw',\n",
        "        'name': 'Wildest Dreams',\n",
        "        'popularity': 74,\n",
        "        'preview_url': None,\n",
        "        'track_number': 9,\n",
        "        'type': 'track',\n",
        "        'uri': 'spotify:track:59HjlYCeBsxdI0fcm3zglw'\n",
        "    },\n",
        "    {\n",
        "        'album_name': 'Hope: Songs Of Love & Strength',\n",
        "        'artist_name': 'Taylor Swift',\n",
        "        'disc_number': 1,\n",
        "        'duration_ms': 219200,\n",
        "        'explicit': False,\n",
        "        'external_ids': {'isrc': 'USCJY1431349'},\n",
        "        'external_urls': {'spotify': 'https://open.spotify.com/track/2JH2oziHRcxEFUHgfZNm2S'},\n",
        "        'id': '2JH2oziHRcxEFUHgfZNm2S',\n",
        "        'name': 'Shake It Off',\n",
        "        'popularity': 14,\n",
        "        'preview_url': None,\n",
        "        'track_number': 7,\n",
        "        'type': 'track',\n",
        "        'uri': 'spotify:track:2JH2oziHRcxEFUHgfZNm2S'\n",
        "    },\n",
        "    {\n",
        "        'album_name': 'Taylor Swift 1989 Medley',\n",
        "        'artist_name': 'Gardiner Sisters',\n",
        "        'disc_number': 1,\n",
        "        'duration_ms': 179880,\n",
        "        'explicit': False,\n",
        "        'external_ids': {'isrc': 'USE830967394'},\n",
        "        'external_urls': {'spotify': 'https://open.spotify.com/track/6IOkSh1Kn5nv4QiotxLnYn'},\n",
        "        'id': '6IOkSh1Kn5nv4QiotxLnYn',\n",
        "        'name': 'Taylor Swift 1989 Medley',\n",
        "        'popularity': 50,\n",
        "        'preview_url': 'https://p.scdn.co/mp3-preview/c7b603f4bcf4d25ded5864a1e5529d5412ee911a?cid=d7df2abc82674544a78cb3f39fd7d585',\n",
        "        'track_number': 1,\n",
        "        'type': 'track',\n",
        "        'uri': 'spotify:track:6IOkSh1Kn5nv4QiotxLnYn'\n",
        "    },\n",
        "    {\n",
        "        'album_name': '1989',\n",
        "        'artist_name': 'Taylor Swift',\n",
        "        'disc_number': 1,\n",
        "        'duration_ms': 231826,\n",
        "        'explicit': False,\n",
        "        'external_ids': {'isrc': 'USCJY1431309'},\n",
        "        'external_urls': {'spotify': 'https://open.spotify.com/track/1p80LdxRV74UKvL8gnD7ky'},\n",
        "        'id': '1p80LdxRV74UKvL8gnD7ky',\n",
        "        'name': 'Blank Space',\n",
        "        'popularity': 73,\n",
        "        'preview_url': None,\n",
        "        'track_number': 2,\n",
        "        'type': 'track',\n",
        "        'uri': 'spotify:track:1p80LdxRV74UKvL8gnD7ky'\n",
        "    },\n",
        "    {\n",
        "        'album_name': 'Red (Big Machine Radio Release Special)',\n",
        "        'artist_name': 'Taylor Swift',\n",
        "        'disc_number': 1,\n",
        "        'duration_ms': 193146,\n",
        "        'explicit': False,\n",
        "        'external_ids': {'isrc': 'USCJY1231018'},\n",
        "        'external_urls': {'spotify': 'https://open.spotify.com/track/0VwNdo84DaVYLIkbVO86ND'},\n",
        "        'id': '0VwNdo84DaVYLIkbVO86ND',\n",
        "        'name': 'We Are Never Ever Getting Back Together',\n",
        "        'popularity': 77,\n",
        "        'preview_url': None,\n",
        "        'track_number': 16,\n",
        "        'type': 'track',\n",
        "        'uri': 'spotify:track:0VwNdo84DaVYLIkbVO86ND'\n",
        "    },\n",
        "    {\n",
        "        'album_name': 'Unsigned',\n",
        "        'artist_name': 'Cal Scruby',\n",
        "        'disc_number': 1,\n",
        "        'duration_ms': 146590,\n",
        "        'explicit': True,\n",
        "        'external_ids': {'isrc': 'QZES91931435'},\n",
        "        'external_urls': {'spotify': 'https://open.spotify.com/track/551TAZe8RjPgXKRMdu1ll4'},\n",
        "        'id': '551TAZe8RjPgXKRMdu1ll4',\n",
        "        'name': 'Taylor Swift',\n",
        "        'popularity': 32,\n",
        "        'preview_url': 'https://p.scdn.co/mp3-preview/6d47706ee2bae2e92898752302ad830bb252e058?cid=d7df2abc82674544a78cb3f39fd7d585',\n",
        "        'track_number': 12,\n",
        "        'type': 'track',\n",
        "        'uri': 'spotify:track:551TAZe8RjPgXKRMdu1ll4'\n",
        "    },\n",
        "    {\n",
        "        'album_name': 'folklore',\n",
        "        'artist_name': 'Taylor Swift',\n",
        "        'disc_number': 1,\n",
        "        'duration_ms': 261922,\n",
        "        'explicit': False,\n",
        "        'external_ids': {'isrc': 'USUG12002842'},\n",
        "        'external_urls': {'spotify': 'https://open.spotify.com/track/3hUxzQpSfdDqwM3ZTFQY0K'},\n",
        "        'id': '3hUxzQpSfdDqwM3ZTFQY0K',\n",
        "        'name': 'august',\n",
        "        'popularity': 80,\n",
        "        'preview_url': None,\n",
        "        'track_number': 8,\n",
        "        'type': 'track',\n",
        "        'uri': 'spotify:track:3hUxzQpSfdDqwM3ZTFQY0K'\n",
        "    },\n",
        "    {\n",
        "        'album_name': 'Lover',\n",
        "        'artist_name': 'Taylor Swift',\n",
        "        'disc_number': 1,\n",
        "        'duration_ms': 171360,\n",
        "        'explicit': False,\n",
        "        'external_ids': {'isrc': 'USUG11901470'},\n",
        "        'external_urls': {'spotify': 'https://open.spotify.com/track/6RRNNciQGZEXnqk8SQ9yv5'},\n",
        "        'id': '6RRNNciQGZEXnqk8SQ9yv5',\n",
        "        'name': 'You Need To Calm Down',\n",
        "        'popularity': 78,\n",
        "        'preview_url': None,\n",
        "        'track_number': 14,\n",
        "        'type': 'track',\n",
        "        'uri': 'spotify:track:6RRNNciQGZEXnqk8SQ9yv5'\n",
        "    },\n",
        "    {\n",
        "        'album_name': \"How Long Do You Think It's Gonna Last?\",\n",
        "        'artist_name': 'Big Red Machine',\n",
        "        'disc_number': 1,\n",
        "        'duration_ms': 330066,\n",
        "        'explicit': True,\n",
        "        'external_ids': {'isrc': 'US38Y2141504'},\n",
        "        'external_urls': {'spotify': 'https://open.spotify.com/track/7wo2UNeQBowm28hfAJsEMz'},\n",
        "        'id': '7wo2UNeQBowm28hfAJsEMz',\n",
        "        'name': 'Birch (feat. Taylor Swift)',\n",
        "        'popularity': 62,\n",
        "        'preview_url': 'https://p.scdn.co/mp3-preview/d0d26217d6ddc51b8d96def65bfd0614c07a5b22?cid=d7df2abc82674544a78cb3f39fd7d585',\n",
        "        'track_number': 4,\n",
        "        'type': 'track',\n",
        "        'uri': 'spotify:track:7wo2UNeQBowm28hfAJsEMz'\n",
        "    },\n",
        "    {\n",
        "        'album_name': 'Autumn Chill',\n",
        "        'artist_name': 'Taylor Swift',\n",
        "        'disc_number': 1,\n",
        "        'duration_ms': 239560,\n",
        "        'explicit': False,\n",
        "        'external_ids': {'isrc': 'USUG12002836'},\n",
        "        'external_urls': {'spotify': 'https://open.spotify.com/track/6nO1lENRKpAUnWD0ZvqxBP'},\n",
        "        'id': '6nO1lENRKpAUnWD0ZvqxBP',\n",
        "        'name': 'cardigan',\n",
        "        'popularity': 0,\n",
        "        'preview_url': None,\n",
        "        'track_number': 17,\n",
        "        'type': 'track',\n",
        "        'uri': 'spotify:track:6nO1lENRKpAUnWD0ZvqxBP'\n",
        "    },\n",
        "    {\n",
        "        'album_name': 'Love Drunk',\n",
        "        'artist_name': 'Boys Like Girls',\n",
        "        'disc_number': 1,\n",
        "        'duration_ms': 242840,\n",
        "        'explicit': False,\n",
        "        'external_ids': {'isrc': 'USSM10904174'},\n",
        "        'external_urls': {'spotify': 'https://open.spotify.com/track/1MaqkdFNIKPdpQGDzme5ss'},\n",
        "        'id': '1MaqkdFNIKPdpQGDzme5ss',\n",
        "        'name': 'Two Is Better Than One (feat. Taylor Swift)',\n",
        "        'popularity': 65,\n",
        "        'preview_url': 'https://p.scdn.co/mp3-preview/59cef672f643870e7a4b68a291939670fc9be6d1?cid=d7df2abc82674544a78cb3f39fd7d585',\n",
        "        'track_number': 4,\n",
        "        'type': 'track',\n",
        "        'uri': 'spotify:track:1MaqkdFNIKPdpQGDzme5ss'\n",
        "    },\n",
        "    {\n",
        "        'album_name': 'Autumn Chill',\n",
        "        'artist_name': 'Taylor Swift',\n",
        "        'disc_number': 1,\n",
        "        'duration_ms': 221306,\n",
        "        'explicit': False,\n",
        "        'external_ids': {'isrc': 'USUG11901473'},\n",
        "        'external_urls': {'spotify': 'https://open.spotify.com/track/16XqoiOcPBgPFOQrdrqPeG'},\n",
        "        'id': '16XqoiOcPBgPFOQrdrqPeG',\n",
        "        'name': 'Lover',\n",
        "        'popularity': 0,\n",
        "        'preview_url': None,\n",
        "        'track_number': 5,\n",
        "        'type': 'track',\n",
        "        'uri': 'spotify:track:16XqoiOcPBgPFOQrdrqPeG'\n",
        "    },\n",
        "    {\n",
        "        'album_name': 'Women In Music Pt. III',\n",
        "        'artist_name': 'HAIM',\n",
        "        'disc_number': 1,\n",
        "        'duration_ms': 193373,\n",
        "        'explicit': False,\n",
        "        'external_ids': {'isrc': 'GBUM72006758'},\n",
        "        'external_urls': {'spotify': 'https://open.spotify.com/track/645Exr2lJIO45Guht3qyIa'},\n",
        "        'id': '645Exr2lJIO45Guht3qyIa',\n",
        "        'name': 'Gasoline (feat. Taylor Swift)',\n",
        "        'popularity': 55,\n",
        "        'preview_url': 'https://p.scdn.co/mp3-preview/2bf9140a9e0db7ad1c764d072bbb1ebb27c31489?cid=d7df2abc82674544a78cb3f39fd7d585',\n",
        "        'track_number': 14,\n",
        "        'type': 'track',\n",
        "        'uri': 'spotify:track:645Exr2lJIO45Guht3qyIa'\n",
        "    },\n",
        "    {\n",
        "        'album_name': \"I'm Ok Now\",\n",
        "        'artist_name': 'Taylor Swift',\n",
        "        'disc_number': 1,\n",
        "        'duration_ms': 239560,\n",
        "        'explicit': False,\n",
        "        'external_ids': {'isrc': 'USUG12002836'},\n",
        "        'external_urls': {'spotify': 'https://open.spotify.com/track/79TvZUrMcuSLnzFQXTfUEZ'},\n",
        "        'id': '79TvZUrMcuSLnzFQXTfUEZ',\n",
        "        'name': 'cardigan',\n",
        "        'popularity': 0,\n",
        "        'preview_url': None,\n",
        "        'track_number': 4,\n",
        "        'type': 'track',\n",
        "        'uri': 'spotify:track:79TvZUrMcuSLnzFQXTfUEZ'\n",
        "    }\n",
        "]\n",
        "\n",
        "print(tracks)"
      ],
      "execution_count": null,
      "outputs": [
        {
          "output_type": "stream",
          "name": "stdout",
          "text": [
            "[{'album_name': \"Wildest Dreams (Taylor's Version)\", 'artist_name': 'Taylor Swift', 'disc_number': 1, 'duration_ms': 220433, 'explicit': False, 'external_ids': {'isrc': 'USUG12103658'}, 'external_urls': {'spotify': 'https://open.spotify.com/track/1Ov37jtRQ2YNAe8HzfczkL'}, 'id': '1Ov37jtRQ2YNAe8HzfczkL', 'name': \"Wildest Dreams (Taylor's Version)\", 'popularity': 87, 'preview_url': None, 'track_number': 1, 'type': 'track', 'uri': 'spotify:track:1Ov37jtRQ2YNAe8HzfczkL'}, {'album_name': 'Fearless (Big Machine Radio Release Special)', 'artist_name': 'Taylor Swift', 'disc_number': 1, 'duration_ms': 236266, 'explicit': False, 'external_ids': {'isrc': 'USCJY0803275'}, 'external_urls': {'spotify': 'https://open.spotify.com/track/1D4PL9B8gOg78jiHg3FvBb'}, 'id': '1D4PL9B8gOg78jiHg3FvBb', 'name': 'Love Story', 'popularity': 74, 'preview_url': None, 'track_number': 6, 'type': 'track', 'uri': 'spotify:track:1D4PL9B8gOg78jiHg3FvBb'}, {'album_name': 'Renegade (feat. Taylor Swift)', 'artist_name': 'Big Red Machine', 'disc_number': 1, 'duration_ms': 254466, 'explicit': False, 'external_ids': {'isrc': 'US38Y2141505'}, 'external_urls': {'spotify': 'https://open.spotify.com/track/1aU1wpYBSpP0M6IiihY5Ue'}, 'id': '1aU1wpYBSpP0M6IiihY5Ue', 'name': 'Renegade (feat. Taylor Swift)', 'popularity': 72, 'preview_url': 'https://p.scdn.co/mp3-preview/e3b1851865f3ee5f213dfd8d950e344e6b14ec8c?cid=d7df2abc82674544a78cb3f39fd7d585', 'track_number': 1, 'type': 'track', 'uri': 'spotify:track:1aU1wpYBSpP0M6IiihY5Ue'}, {'album_name': 'Back to School 2021', 'artist_name': 'Taylor Swift', 'disc_number': 1, 'duration_ms': 235766, 'explicit': False, 'external_ids': {'isrc': 'USUG12100342'}, 'external_urls': {'spotify': 'https://open.spotify.com/track/2HbOu4weHYlchWzQ2DTOSU'}, 'id': '2HbOu4weHYlchWzQ2DTOSU', 'name': 'Love Story (Taylor’s Version)', 'popularity': 0, 'preview_url': None, 'track_number': 24, 'type': 'track', 'uri': 'spotify:track:2HbOu4weHYlchWzQ2DTOSU'}, {'album_name': 'Red (Big Machine Radio Release Special)', 'artist_name': 'Taylor Swift', 'disc_number': 1, 'duration_ms': 219720, 'explicit': False, 'external_ids': {'isrc': 'USCJY1231039'}, 'external_urls': {'spotify': 'https://open.spotify.com/track/6FB3v4YcR57y4tXFcdxI1E'}, 'id': '6FB3v4YcR57y4tXFcdxI1E', 'name': 'I Knew You Were Trouble.', 'popularity': 78, 'preview_url': None, 'track_number': 8, 'type': 'track', 'uri': 'spotify:track:6FB3v4YcR57y4tXFcdxI1E'}, {'album_name': 'Anthem Lights Covers Part II', 'artist_name': 'Anthem Lights', 'disc_number': 1, 'duration_ms': 279331, 'explicit': False, 'external_ids': {'isrc': 'TCABR1323521'}, 'external_urls': {'spotify': 'https://open.spotify.com/track/1SSj8VnmFs7jDDGUddEOoY'}, 'id': '1SSj8VnmFs7jDDGUddEOoY', 'name': 'Taylor Swift Mash-Up', 'popularity': 47, 'preview_url': 'https://p.scdn.co/mp3-preview/be6c87401b204fe3108907311af75d25b7ea4666?cid=d7df2abc82674544a78cb3f39fd7d585', 'track_number': 7, 'type': 'track', 'uri': 'spotify:track:1SSj8VnmFs7jDDGUddEOoY'}, {'album_name': '1989', 'artist_name': 'Taylor Swift', 'disc_number': 1, 'duration_ms': 220440, 'explicit': False, 'external_ids': {'isrc': 'USCJY1431379'}, 'external_urls': {'spotify': 'https://open.spotify.com/track/59HjlYCeBsxdI0fcm3zglw'}, 'id': '59HjlYCeBsxdI0fcm3zglw', 'name': 'Wildest Dreams', 'popularity': 74, 'preview_url': None, 'track_number': 9, 'type': 'track', 'uri': 'spotify:track:59HjlYCeBsxdI0fcm3zglw'}, {'album_name': 'Hope: Songs Of Love & Strength', 'artist_name': 'Taylor Swift', 'disc_number': 1, 'duration_ms': 219200, 'explicit': False, 'external_ids': {'isrc': 'USCJY1431349'}, 'external_urls': {'spotify': 'https://open.spotify.com/track/2JH2oziHRcxEFUHgfZNm2S'}, 'id': '2JH2oziHRcxEFUHgfZNm2S', 'name': 'Shake It Off', 'popularity': 14, 'preview_url': None, 'track_number': 7, 'type': 'track', 'uri': 'spotify:track:2JH2oziHRcxEFUHgfZNm2S'}, {'album_name': 'Taylor Swift 1989 Medley', 'artist_name': 'Gardiner Sisters', 'disc_number': 1, 'duration_ms': 179880, 'explicit': False, 'external_ids': {'isrc': 'USE830967394'}, 'external_urls': {'spotify': 'https://open.spotify.com/track/6IOkSh1Kn5nv4QiotxLnYn'}, 'id': '6IOkSh1Kn5nv4QiotxLnYn', 'name': 'Taylor Swift 1989 Medley', 'popularity': 50, 'preview_url': 'https://p.scdn.co/mp3-preview/c7b603f4bcf4d25ded5864a1e5529d5412ee911a?cid=d7df2abc82674544a78cb3f39fd7d585', 'track_number': 1, 'type': 'track', 'uri': 'spotify:track:6IOkSh1Kn5nv4QiotxLnYn'}, {'album_name': '1989', 'artist_name': 'Taylor Swift', 'disc_number': 1, 'duration_ms': 231826, 'explicit': False, 'external_ids': {'isrc': 'USCJY1431309'}, 'external_urls': {'spotify': 'https://open.spotify.com/track/1p80LdxRV74UKvL8gnD7ky'}, 'id': '1p80LdxRV74UKvL8gnD7ky', 'name': 'Blank Space', 'popularity': 73, 'preview_url': None, 'track_number': 2, 'type': 'track', 'uri': 'spotify:track:1p80LdxRV74UKvL8gnD7ky'}, {'album_name': 'Red (Big Machine Radio Release Special)', 'artist_name': 'Taylor Swift', 'disc_number': 1, 'duration_ms': 193146, 'explicit': False, 'external_ids': {'isrc': 'USCJY1231018'}, 'external_urls': {'spotify': 'https://open.spotify.com/track/0VwNdo84DaVYLIkbVO86ND'}, 'id': '0VwNdo84DaVYLIkbVO86ND', 'name': 'We Are Never Ever Getting Back Together', 'popularity': 77, 'preview_url': None, 'track_number': 16, 'type': 'track', 'uri': 'spotify:track:0VwNdo84DaVYLIkbVO86ND'}, {'album_name': 'Unsigned', 'artist_name': 'Cal Scruby', 'disc_number': 1, 'duration_ms': 146590, 'explicit': True, 'external_ids': {'isrc': 'QZES91931435'}, 'external_urls': {'spotify': 'https://open.spotify.com/track/551TAZe8RjPgXKRMdu1ll4'}, 'id': '551TAZe8RjPgXKRMdu1ll4', 'name': 'Taylor Swift', 'popularity': 32, 'preview_url': 'https://p.scdn.co/mp3-preview/6d47706ee2bae2e92898752302ad830bb252e058?cid=d7df2abc82674544a78cb3f39fd7d585', 'track_number': 12, 'type': 'track', 'uri': 'spotify:track:551TAZe8RjPgXKRMdu1ll4'}, {'album_name': 'folklore', 'artist_name': 'Taylor Swift', 'disc_number': 1, 'duration_ms': 261922, 'explicit': False, 'external_ids': {'isrc': 'USUG12002842'}, 'external_urls': {'spotify': 'https://open.spotify.com/track/3hUxzQpSfdDqwM3ZTFQY0K'}, 'id': '3hUxzQpSfdDqwM3ZTFQY0K', 'name': 'august', 'popularity': 80, 'preview_url': None, 'track_number': 8, 'type': 'track', 'uri': 'spotify:track:3hUxzQpSfdDqwM3ZTFQY0K'}, {'album_name': 'Lover', 'artist_name': 'Taylor Swift', 'disc_number': 1, 'duration_ms': 171360, 'explicit': False, 'external_ids': {'isrc': 'USUG11901470'}, 'external_urls': {'spotify': 'https://open.spotify.com/track/6RRNNciQGZEXnqk8SQ9yv5'}, 'id': '6RRNNciQGZEXnqk8SQ9yv5', 'name': 'You Need To Calm Down', 'popularity': 78, 'preview_url': None, 'track_number': 14, 'type': 'track', 'uri': 'spotify:track:6RRNNciQGZEXnqk8SQ9yv5'}, {'album_name': \"How Long Do You Think It's Gonna Last?\", 'artist_name': 'Big Red Machine', 'disc_number': 1, 'duration_ms': 330066, 'explicit': True, 'external_ids': {'isrc': 'US38Y2141504'}, 'external_urls': {'spotify': 'https://open.spotify.com/track/7wo2UNeQBowm28hfAJsEMz'}, 'id': '7wo2UNeQBowm28hfAJsEMz', 'name': 'Birch (feat. Taylor Swift)', 'popularity': 62, 'preview_url': 'https://p.scdn.co/mp3-preview/d0d26217d6ddc51b8d96def65bfd0614c07a5b22?cid=d7df2abc82674544a78cb3f39fd7d585', 'track_number': 4, 'type': 'track', 'uri': 'spotify:track:7wo2UNeQBowm28hfAJsEMz'}, {'album_name': 'Autumn Chill', 'artist_name': 'Taylor Swift', 'disc_number': 1, 'duration_ms': 239560, 'explicit': False, 'external_ids': {'isrc': 'USUG12002836'}, 'external_urls': {'spotify': 'https://open.spotify.com/track/6nO1lENRKpAUnWD0ZvqxBP'}, 'id': '6nO1lENRKpAUnWD0ZvqxBP', 'name': 'cardigan', 'popularity': 0, 'preview_url': None, 'track_number': 17, 'type': 'track', 'uri': 'spotify:track:6nO1lENRKpAUnWD0ZvqxBP'}, {'album_name': 'Love Drunk', 'artist_name': 'Boys Like Girls', 'disc_number': 1, 'duration_ms': 242840, 'explicit': False, 'external_ids': {'isrc': 'USSM10904174'}, 'external_urls': {'spotify': 'https://open.spotify.com/track/1MaqkdFNIKPdpQGDzme5ss'}, 'id': '1MaqkdFNIKPdpQGDzme5ss', 'name': 'Two Is Better Than One (feat. Taylor Swift)', 'popularity': 65, 'preview_url': 'https://p.scdn.co/mp3-preview/59cef672f643870e7a4b68a291939670fc9be6d1?cid=d7df2abc82674544a78cb3f39fd7d585', 'track_number': 4, 'type': 'track', 'uri': 'spotify:track:1MaqkdFNIKPdpQGDzme5ss'}, {'album_name': 'Autumn Chill', 'artist_name': 'Taylor Swift', 'disc_number': 1, 'duration_ms': 221306, 'explicit': False, 'external_ids': {'isrc': 'USUG11901473'}, 'external_urls': {'spotify': 'https://open.spotify.com/track/16XqoiOcPBgPFOQrdrqPeG'}, 'id': '16XqoiOcPBgPFOQrdrqPeG', 'name': 'Lover', 'popularity': 0, 'preview_url': None, 'track_number': 5, 'type': 'track', 'uri': 'spotify:track:16XqoiOcPBgPFOQrdrqPeG'}, {'album_name': 'Women In Music Pt. III', 'artist_name': 'HAIM', 'disc_number': 1, 'duration_ms': 193373, 'explicit': False, 'external_ids': {'isrc': 'GBUM72006758'}, 'external_urls': {'spotify': 'https://open.spotify.com/track/645Exr2lJIO45Guht3qyIa'}, 'id': '645Exr2lJIO45Guht3qyIa', 'name': 'Gasoline (feat. Taylor Swift)', 'popularity': 55, 'preview_url': 'https://p.scdn.co/mp3-preview/2bf9140a9e0db7ad1c764d072bbb1ebb27c31489?cid=d7df2abc82674544a78cb3f39fd7d585', 'track_number': 14, 'type': 'track', 'uri': 'spotify:track:645Exr2lJIO45Guht3qyIa'}, {'album_name': \"I'm Ok Now\", 'artist_name': 'Taylor Swift', 'disc_number': 1, 'duration_ms': 239560, 'explicit': False, 'external_ids': {'isrc': 'USUG12002836'}, 'external_urls': {'spotify': 'https://open.spotify.com/track/79TvZUrMcuSLnzFQXTfUEZ'}, 'id': '79TvZUrMcuSLnzFQXTfUEZ', 'name': 'cardigan', 'popularity': 0, 'preview_url': None, 'track_number': 4, 'type': 'track', 'uri': 'spotify:track:79TvZUrMcuSLnzFQXTfUEZ'}]\n"
          ]
        }
      ]
    },
    {
      "cell_type": "markdown",
      "metadata": {
        "id": "WVQUj5N7A5Kj"
      },
      "source": [
        "\n",
        "Given the Python variable called `tracks` provided above, write Python code which references that variable to perform each of the following tasks...\n",
        "\n",
        "A) Print the number of tracks (i.e. `20`)\n",
        "\n",
        "B) Loop through all the tracks, and print the name and artist name of each track, each on a new line (i.e. `\"Wildest Dreams (Taylor's Version) by Taylor Swift\"`, then `\"Love Story by Taylor Swift\"`, then `\"Renegade (feat. Taylor Swift) by Big Red Machine\"`, etc.)\n",
        "\n",
        "C) Print the number of tracks authored specifically by the artist named \"Taylor Swift\" (i.e. `13`).\n",
        "\n",
        "D) Print the name and popularity score for the five most popular tracks by the artist named \"Taylor Swift\".\n",
        "\n",
        "> NOTE: assume the most popular tracks are the ones with the greatest \"popularity\" scores.\n",
        "\n",
        "> HINT: try sorting the tracks by popularity score, in descending order. You may want to leverage the `itemgetter` function from the `operator` module for easy sorting.\n",
        "\n",
        "> HINT: for getting just the top five, you can use a list-slicing approach, or counter-based approach.\n",
        "\n",
        "\n"
      ]
    },
    {
      "cell_type": "code",
      "metadata": {
        "id": "MCaUtr-QjxDB",
        "colab": {
          "base_uri": "https://localhost:8080/"
        },
        "outputId": "1b35d854-3f9a-4d32-fdbe-5422c867b315"
      },
      "source": [
        "# Printing processing data\n",
        "print(\"------------------\")\n",
        "print(\"PROCESSING TRACKS DATA...\")\n",
        "print(\"------------------\")\n",
        "\n",
        "# todo: write Python code to answer the questions...\n",
        "# A\n",
        "print(\"The number of tracks are:\",len(tracks))\n",
        "print(\"------------------\")\n",
        "# B\n",
        "for i in tracks:\n",
        "    print(i[\"album_name\"],\"by\",i[\"artist_name\"])\n",
        "print(\"------------------\")\n",
        "# C\n",
        "ts_albums = []\n",
        "for i in tracks:\n",
        "    if i[\"artist_name\"] == \"Taylor Swift\":\n",
        "        ts_albums.append(i)\n",
        "print(\"The number of tracks authored by Taylor Swift:\",len(ts_albums))\n",
        "print(\"------------------\")\n",
        "# D\n",
        "from operator import itemgetter\n",
        "sorted_tracks = sorted(tracks,key=itemgetter('popularity'),reverse = True)\n",
        "for i in sorted_tracks[ :5]:\n",
        "    print(\"Track Name -\",i['album_name'],\":\",\"Popularity -\",str(i['popularity']))"
      ],
      "execution_count": null,
      "outputs": [
        {
          "output_type": "stream",
          "name": "stdout",
          "text": [
            "------------------\n",
            "PROCESSING TRACKS DATA...\n",
            "------------------\n",
            "The number of tracks are: 20\n",
            "------------------\n",
            "Wildest Dreams (Taylor's Version) by Taylor Swift\n",
            "Fearless (Big Machine Radio Release Special) by Taylor Swift\n",
            "Renegade (feat. Taylor Swift) by Big Red Machine\n",
            "Back to School 2021 by Taylor Swift\n",
            "Red (Big Machine Radio Release Special) by Taylor Swift\n",
            "Anthem Lights Covers Part II by Anthem Lights\n",
            "1989 by Taylor Swift\n",
            "Hope: Songs Of Love & Strength by Taylor Swift\n",
            "Taylor Swift 1989 Medley by Gardiner Sisters\n",
            "1989 by Taylor Swift\n",
            "Red (Big Machine Radio Release Special) by Taylor Swift\n",
            "Unsigned by Cal Scruby\n",
            "folklore by Taylor Swift\n",
            "Lover by Taylor Swift\n",
            "How Long Do You Think It's Gonna Last? by Big Red Machine\n",
            "Autumn Chill by Taylor Swift\n",
            "Love Drunk by Boys Like Girls\n",
            "Autumn Chill by Taylor Swift\n",
            "Women In Music Pt. III by HAIM\n",
            "I'm Ok Now by Taylor Swift\n",
            "------------------\n",
            "The number of tracks authored by Taylor Swift: 13\n",
            "------------------\n",
            "Track Name - Wildest Dreams (Taylor's Version) : Popularity - 87\n",
            "Track Name - folklore : Popularity - 80\n",
            "Track Name - Red (Big Machine Radio Release Special) : Popularity - 78\n",
            "Track Name - Lover : Popularity - 78\n",
            "Track Name - Red (Big Machine Radio Release Special) : Popularity - 77\n"
          ]
        }
      ]
    },
    {
      "cell_type": "markdown",
      "source": [
        "## Challenge 3 (Your Challenge)"
      ],
      "metadata": {
        "id": "15hpaHIIbxHN"
      }
    },
    {
      "cell_type": "markdown",
      "source": [
        "In Challenges 1 and 2 above, we are representing real life data in a nested Python data structure. Think of some digital or physical object(s) you interact with in your daily life. It can be about anything, not just music. How would you model those objects in a single Python variable?\n",
        "\n",
        "\n",
        "Your goal is to **create your own unique challenge** similar in scope and spirit to the challenges provided above. Feel free to use the template provided below.\n",
        "\n",
        "A) Your challenge should **provide a nested data structure stored in a single variable**, using a variable name of your choosing. It should likey either be a list or dictionary at the top level, and it may included nested structures like other lists or dictionaries. There will likely be string, numeric, and boolean values in your data structure as well!\n",
        "\n",
        "B) Your challenge should **provide a handful of questions asking another student to write Python code to solve your challenge**. If you can include questions which involve list sorting, filtering, and/or mapping, that would be ideal.\n",
        "\n",
        "C) Finally, you should **write Python code to solve your own challenge questions**!\n",
        "\n",
        "Have fun!"
      ],
      "metadata": {
        "id": "O2_HLKdwb1RH"
      }
    },
    {
      "cell_type": "markdown",
      "source": [
        "**Challenge Template**:"
      ],
      "metadata": {
        "id": "xJD8bcqafN9s"
      }
    },
    {
      "cell_type": "code",
      "source": [
        "# SETUP CELL\n",
        "\n",
        "# provide your python variable here\n",
        "share_price_banks = [\n",
        "    {\n",
        "        \"name\": \"HDFC Bank\",\n",
        "        \"ticker\": \"HDFC\",\n",
        "        \"30_day_average_price\": 150.25,\n",
        "        \"30_day_high\": 165.75,\n",
        "        \"30_day_low\": 135.50,\n",
        "        \"market_trend\": \"bullish\"\n",
        "    },\n",
        "    {\n",
        "        \"name\": \"SBI Bank\",\n",
        "        \"ticker\": \"SBI\",\n",
        "        \"30_day_average_price\": 75.60,\n",
        "        \"30_day_high\": 82.40,\n",
        "        \"30_day_low\": 68.90,\n",
        "        \"market_trend\": \"bearish\"\n",
        "    },\n",
        "    {\n",
        "        \"name\": \"Canara Bank\",\n",
        "        \"ticker\": \"CB\",\n",
        "        \"30_day_average_price\": 42.15,\n",
        "        \"30_day_high\": 47.30,\n",
        "        \"30_day_low\": 38.20,\n",
        "        \"market_trend\": \"bullish\"\n",
        "    },\n",
        "    {\n",
        "        \"name\": \"ICICI Bank\",\n",
        "        \"ticker\": \"ICICI\",\n",
        "        \"30_day_average_price\": 105.80,\n",
        "        \"30_day_high\": 112.45,\n",
        "        \"30_day_low\": 99.70,\n",
        "        \"market_trend\": \"bearish\"\n",
        "    },\n",
        "    {\n",
        "        \"name\": \"Kotak Mahindra\",\n",
        "        \"ticker\": \"KM\",\n",
        "        \"30_day_average_price\": 28.75,\n",
        "        \"30_day_high\": 32.10,\n",
        "        \"30_day_low\": 26.50,\n",
        "        \"market_trend\": \"bullish\"\n",
        "    }\n",
        "]\n"
      ],
      "metadata": {
        "id": "08z8clACfXKk"
      },
      "execution_count": 4,
      "outputs": []
    },
    {
      "cell_type": "markdown",
      "source": [
        "\n",
        "Given the Python variable called `share_price_banks` provided above, write Python code which references that variable to perform each of the following tasks...\n",
        "\n",
        "A) Print the number of banks.\n",
        "\n",
        "B) Print the name of each bank along with the average share price. Arrage the data with the highest average share price first(print each in a seperate line).\n",
        "\n",
        "C) Print the name of each bank along with the average share price for banks with a bullish market trend.\n",
        "\n",
        "D) Print the name of each bank along with the change in share price over the last month(Round it to the nearest whole number).\n",
        "\n",
        "E) Print the name of the bank along with the change in share price over the last month(Round it to the nearest whole number) for the bank with the highest price change.\n",
        "\n"
      ],
      "metadata": {
        "id": "2jwzzKaOfCrk"
      }
    },
    {
      "cell_type": "markdown",
      "source": [
        "Your solutions:"
      ],
      "metadata": {
        "id": "pmjJcrXPfobX"
      }
    },
    {
      "cell_type": "code",
      "source": [
        "# SOLUTIONS BELOW\n",
        "\n",
        "\n",
        "# TODO: solution to Your Question A\n",
        "print(\"The number of banks are:\",len(share_price_banks))"
      ],
      "metadata": {
        "id": "5JLLX5avfbJG",
        "colab": {
          "base_uri": "https://localhost:8080/"
        },
        "outputId": "e69d9bbd-4796-4b59-a672-237836352ce8"
      },
      "execution_count": 5,
      "outputs": [
        {
          "output_type": "stream",
          "name": "stdout",
          "text": [
            "The number of banks are: 5\n"
          ]
        }
      ]
    },
    {
      "cell_type": "code",
      "source": [
        "# TODO: solution to Your Question B\n",
        "from operator import itemgetter\n",
        "share_price_banks_ordered_avg = sorted(share_price_banks,key=itemgetter(\"30_day_average_price\"),reverse = True)\n",
        "for i in share_price_banks_ordered_avg:\n",
        "    print(i[\"name\"],i[\"30_day_average_price\"])\n",
        "    print(\"---------------------\")\n"
      ],
      "metadata": {
        "id": "XbhYTCDcfgP4",
        "colab": {
          "base_uri": "https://localhost:8080/"
        },
        "outputId": "a12261a4-53ab-48b4-ff8f-9519c1ffd406"
      },
      "execution_count": 6,
      "outputs": [
        {
          "output_type": "stream",
          "name": "stdout",
          "text": [
            "HDFC Bank 150.25\n",
            "---------------------\n",
            "ICICI Bank 105.8\n",
            "---------------------\n",
            "SBI Bank 75.6\n",
            "---------------------\n",
            "Canara Bank 42.15\n",
            "---------------------\n",
            "Kotak Mahindra 28.75\n",
            "---------------------\n"
          ]
        }
      ]
    },
    {
      "cell_type": "code",
      "source": [
        "# TODO: solution to Your Question D\n",
        "for i in share_price_banks:\n",
        "    if i[\"market_trend\"] == \"bullish\":\n",
        "        print(i[\"name\"],i[\"30_day_average_price\"])\n",
        "        print(\"---------------------\")\n"
      ],
      "metadata": {
        "id": "rVaa8idvfh1I",
        "colab": {
          "base_uri": "https://localhost:8080/"
        },
        "outputId": "c41be895-9d4e-4a43-f5a0-c60b8e0ea18d"
      },
      "execution_count": 11,
      "outputs": [
        {
          "output_type": "stream",
          "name": "stdout",
          "text": [
            "HDFC Bank 150.25\n",
            "---------------------\n",
            "Canara Bank 42.15\n",
            "---------------------\n",
            "Kotak Mahindra 28.75\n",
            "---------------------\n"
          ]
        }
      ]
    },
    {
      "cell_type": "code",
      "source": [
        "# TODO: solution to Your Question C\n",
        "for i in share_price_banks:\n",
        "    print(i[\"name\"],round(i[\"30_day_high\"]-i[\"30_day_low\"],0))\n",
        "    print(\"---------------------\")\n"
      ],
      "metadata": {
        "id": "9Dm-xb4HfgqP",
        "colab": {
          "base_uri": "https://localhost:8080/"
        },
        "outputId": "57659f1a-8339-4659-a9fc-f0cecf80d688"
      },
      "execution_count": 9,
      "outputs": [
        {
          "output_type": "stream",
          "name": "stdout",
          "text": [
            "HDFC Bank 30.0\n",
            "---------------------\n",
            "SBI Bank 14.0\n",
            "---------------------\n",
            "Canara Bank 9.0\n",
            "---------------------\n",
            "ICICI Bank 13.0\n",
            "---------------------\n",
            "Kotak Mahindra 6.0\n",
            "---------------------\n"
          ]
        }
      ]
    },
    {
      "cell_type": "code",
      "source": [
        "# TODO: solution to Your Question E\n",
        "share_fluctuation_list = []\n",
        "for i in share_price_banks:\n",
        "    share_fluctuation_list.append(round(i[\"30_day_high\"]-i[\"30_day_low\"],0))\n",
        "for i in share_price_banks:\n",
        "    if round(i[\"30_day_high\"]-i[\"30_day_low\"],0) == max(share_fluctuation_list):\n",
        "        print(i[\"name\"],round(i[\"30_day_high\"]-i[\"30_day_low\"],0))\n"
      ],
      "metadata": {
        "id": "z2a2wbjYfiiC",
        "colab": {
          "base_uri": "https://localhost:8080/"
        },
        "outputId": "38574c0c-2fb5-40c0-96bf-d73f53e05773"
      },
      "execution_count": 23,
      "outputs": [
        {
          "output_type": "stream",
          "name": "stdout",
          "text": [
            "HDFC Bank 30.0\n"
          ]
        }
      ]
    },
    {
      "cell_type": "markdown",
      "source": [
        "# Scratch Work"
      ],
      "metadata": {
        "id": "Jsw5zC3px9bu"
      }
    },
    {
      "cell_type": "markdown",
      "source": [
        "Feel free to use any number of cells below for scratch work that will not be evaluated.\n",
        "\n",
        "The code below will not be evaluated, so make sure the \"Challenges\" section above includes your final work product for evaluation."
      ],
      "metadata": {
        "id": "SARjMkICQt52"
      }
    },
    {
      "cell_type": "code",
      "source": [],
      "metadata": {
        "id": "CRtdAiK0yTUK"
      },
      "execution_count": null,
      "outputs": []
    },
    {
      "cell_type": "code",
      "source": [],
      "metadata": {
        "id": "iDBDR8S9yegT"
      },
      "execution_count": null,
      "outputs": []
    },
    {
      "cell_type": "code",
      "source": [],
      "metadata": {
        "id": "n4DeuKhi0pHq"
      },
      "execution_count": null,
      "outputs": []
    },
    {
      "cell_type": "markdown",
      "source": [
        "### Image Display Examples"
      ],
      "metadata": {
        "id": "btLRWcMQ8Tpy"
      }
    },
    {
      "cell_type": "markdown",
      "metadata": {
        "id": "CJnqTNgzi1sY"
      },
      "source": [
        "\n",
        "The code cell below provides an example of how to display images in a Colab notebook."
      ]
    },
    {
      "cell_type": "code",
      "metadata": {
        "id": "ocKq2RirC--Z",
        "colab": {
          "base_uri": "https://localhost:8080/",
          "height": 397
        },
        "outputId": "dc33060c-976b-49cd-eb53-fad24580381a"
      },
      "source": [
        "from IPython.display import Image, display\n",
        "\n",
        "print(\"-----------\")\n",
        "print(\"EXAMPLE IMAGES:\")\n",
        "\n",
        "print(\"-----------\")\n",
        "image_url = \"https://upload.wikimedia.org/wikipedia/commons/thumb/9/9f/Georgetown_Hoyas_logo.svg/64px-Georgetown_Hoyas_logo.svg.png\"\n",
        "#image_url = \"https://gwsports.com/images/2012/6/11/GeorgeSecondaryLogo.jpg\"\n",
        "display(Image(url=image_url, height=100))\n",
        "\n",
        "print(\"-----------\")\n",
        "display(Image(url=\"https://www.python.org/static/community_logos/python-powered-w-200x80.png\"))\n",
        "\n",
        "print(\"-----------\")\n",
        "display(Image(url=\"https://www.scdn.co/i/_global/open-graph-default.png\", height=100))"
      ],
      "execution_count": null,
      "outputs": [
        {
          "output_type": "stream",
          "name": "stdout",
          "text": [
            "-----------\n",
            "EXAMPLE IMAGES:\n",
            "-----------\n"
          ]
        },
        {
          "output_type": "display_data",
          "data": {
            "text/html": [
              "<img src=\"https://upload.wikimedia.org/wikipedia/commons/thumb/9/9f/Georgetown_Hoyas_logo.svg/64px-Georgetown_Hoyas_logo.svg.png\" height=\"100\"/>"
            ],
            "text/plain": [
              "<IPython.core.display.Image object>"
            ]
          },
          "metadata": {}
        },
        {
          "output_type": "stream",
          "name": "stdout",
          "text": [
            "-----------\n"
          ]
        },
        {
          "output_type": "display_data",
          "data": {
            "text/html": [
              "<img src=\"https://www.python.org/static/community_logos/python-powered-w-200x80.png\"/>"
            ],
            "text/plain": [
              "<IPython.core.display.Image object>"
            ]
          },
          "metadata": {}
        },
        {
          "output_type": "stream",
          "name": "stdout",
          "text": [
            "-----------\n"
          ]
        },
        {
          "output_type": "display_data",
          "data": {
            "text/html": [
              "<img src=\"https://www.scdn.co/i/_global/open-graph-default.png\" height=\"100\"/>"
            ],
            "text/plain": [
              "<IPython.core.display.Image object>"
            ]
          },
          "metadata": {}
        }
      ]
    },
    {
      "cell_type": "code",
      "source": [],
      "metadata": {
        "id": "itFNuAO0zSN2"
      },
      "execution_count": null,
      "outputs": []
    },
    {
      "cell_type": "code",
      "source": [],
      "metadata": {
        "id": "dnJL8debzSKv"
      },
      "execution_count": null,
      "outputs": []
    },
    {
      "cell_type": "code",
      "source": [],
      "metadata": {
        "id": "LtOAXr0TzSHX"
      },
      "execution_count": null,
      "outputs": []
    },
    {
      "cell_type": "code",
      "source": [],
      "metadata": {
        "id": "m7WacFeyzSDX"
      },
      "execution_count": null,
      "outputs": []
    }
  ]
}