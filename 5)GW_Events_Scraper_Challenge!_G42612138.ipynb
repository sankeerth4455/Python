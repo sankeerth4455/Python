{
  "nbformat": 4,
  "nbformat_minor": 0,
  "metadata": {
    "colab": {
      "provenance": []
    },
    "kernelspec": {
      "name": "python3",
      "display_name": "Python 3"
    },
    "language_info": {
      "name": "python"
    }
  },
  "cells": [
    {
      "cell_type": "markdown",
      "source": [
        "v.2023-10-03"
      ],
      "metadata": {
        "id": "VjaJnVHVV1UE"
      }
    },
    {
      "cell_type": "markdown",
      "source": [
        "## 📅 GWU Events Scraper Challenge 📅\n"
      ],
      "metadata": {
        "id": "5SHsyfC6rWwq"
      }
    },
    {
      "cell_type": "markdown",
      "source": [
        "\n",
        "1. Request the **HTML** page contents of https://calendar.gwu.edu/calendar.\n",
        "2. Parse the page and loop through the events and **display** some information about each, including:\n",
        "  + **Title** (e.g. \"Annie Artist Gallery Opening\")\n",
        "  + **Date info** including date, day of week, start, and end times (e.g. \"Mon, Oct 2, 2023 11am to 3pm\" or \"Mon, Oct 2, 2023\", depending on whether or not the start and end times are present - some events don't have start and end)\n",
        "  + **Location** (e.g. \"Smith Hall of Art, Gallery 102\")\n",
        "  + **Image** (ideally displayed)\n",
        "  + **Primary event type** / first tag (e.g. \"Arts and Culture\")\n",
        "\n",
        "> BONUS: instead of a single field for the date info including day of week, start, and end times, see if you can further **decompose the date info** into separate fields:\n",
        ">  + **Date** (e.g. \"2023-09-08\")\n",
        ">  + **Day of week** (e.g. \"Friday\")\n",
        ">  + **Start time**, as applicable (e.g. \"12:30pm\" or None)\n",
        ">  + **End time**, as applicable (e.g. \"01:30pm\" or None)\n",
        "\n",
        "3. Ensure your loop from Question 2 also **collects** the events as a list of dictionaries called `events`.\n",
        "\n",
        "4. Convert the entire list of `events` to a `pandas.DataFrame` object called `events_df`. Optionally inspect by:\n",
        "  + Print the column names.\n",
        "  + Print the number of rows.\n",
        "  + Show the first few rows.\n",
        "  + Print the earliest start time. And the latest end time.\n",
        "\n",
        "5. Write the `events_df` contents to **CSV file** called \"events.csv\" in the colab filesystem. Optionally download the CSV file into your computer and open with speadsheet software.\n",
        "\n",
        "> NOTE: we haven't worked with DataFrames yet, so the required parts of Questions 4 and 5 have been done for you."
      ],
      "metadata": {
        "id": "tk0yuflq_Con"
      }
    },
    {
      "cell_type": "markdown",
      "source": [
        "**Further Exploration**\n",
        "\n",
        "If you get through that easily enough, consider tackling this optional bonus challenge.\n",
        "\n",
        "6. Write a function called `fetch_events` that accepts a date string like \"2023-10-20\" as a parameter input called `selected_date`, and returns the first page of events on that day, formatted as a list of dictionaries. If the `selected_date` parameter is omitted, the function should return the current day's events.\n",
        "\n",
        "\n",
        "> HINT: when we select a different date in the browser, the url will be something like: https://calendar.gwu.edu/calendar/day/2023/10/20\n",
        "\n",
        "\n",
        "> HINT: use a default value of `None` for the `selected_date` parameter. Inside the function, check the parameter's value, and if one is present, adjust the request url to include something like \"/day/2023/10/20\" at the end\n",
        "\n",
        "\n",
        "Also implement tests like these for your function, and make sure they pass:\n",
        "\n",
        "\n",
        "```python\n",
        "from datetime import date\n",
        "\n",
        "events = fetch_events()\n",
        "assert any(events)\n",
        "assert events[0][\"date\"] == str(date.today())\n",
        "\n",
        "events = fetch_events(\"2023-10-20\")\n",
        "assert any(events)\n",
        "assert events[0][\"date\"] == \"2023-10-20\"\n",
        "```"
      ],
      "metadata": {
        "id": "7QUixYn0pUeV"
      }
    },
    {
      "cell_type": "markdown",
      "source": [
        "## Evaluation"
      ],
      "metadata": {
        "id": "QXKJH0xCr_1l"
      }
    },
    {
      "cell_type": "markdown",
      "source": [
        "Rubric:\n",
        "\n",
        "Part | Weight\n",
        "--- | ---\n",
        "Part 1 | 20%\n",
        "Part 2 | 60%\n",
        "Part 3 and 4 and 5 | 20%\n",
        "\n",
        "The bonus from Part 1 is worth an additional 10% extra credit.\n",
        "\n",
        "The event fetching function bonus is worth an additional 10% extra credit.\n"
      ],
      "metadata": {
        "id": "z-vODM94sJK1"
      }
    },
    {
      "cell_type": "markdown",
      "source": [
        "## Solution"
      ],
      "metadata": {
        "id": "WHTHKHVjsAZJ"
      }
    },
    {
      "cell_type": "code",
      "source": [
        "import requests\n",
        "from bs4 import BeautifulSoup\n",
        "import string\n",
        "from itertools import chain\n",
        "from IPython.display import Image, display"
      ],
      "metadata": {
        "id": "PlJK82J3IN13"
      },
      "execution_count": 38,
      "outputs": []
    },
    {
      "cell_type": "code",
      "source": [
        "EVENTS_PAGE_URL = \"https://calendar.gwu.edu/calendar\"\n",
        "request = requests.get(EVENTS_PAGE_URL)\n",
        "soup = BeautifulSoup(request.text)"
      ],
      "metadata": {
        "id": "PVaFL1kg-1I9"
      },
      "execution_count": 39,
      "outputs": []
    },
    {
      "cell_type": "code",
      "source": [
        "item = soup.find_all(\"div\",\"em-card\" )"
      ],
      "metadata": {
        "id": "7KkJ6hkJC9hd"
      },
      "execution_count": 40,
      "outputs": []
    },
    {
      "cell_type": "code",
      "source": [
        "# Question 3 prep:\n",
        "\n",
        "events = [] # TODO: collect all the events as a list of dict\n",
        "for i in item:\n",
        "    events_dict = {}\n",
        "    if i.find(\"h3\",\"em-card_title\") == None:\n",
        "        print(\"title : No Title Available\")\n",
        "        events_dict[\"title\"] = \"No Title Available\"\n",
        "    else:\n",
        "        print(\"title :\",(i.find(\"h3\",\"em-card_title\").text).title())\n",
        "        events_dict[\"title\"] = (i.find(\"h3\",\"em-card_title\").text).title()\n",
        "    if i.find(\"p\",\"em-card_event-text\") == None:\n",
        "        print(\"Time : No Time Available\")\n",
        "    else:\n",
        "        sentence = i.find(\"p\",\"em-card_event-text\").text\n",
        "        for char in string.punctuation:\n",
        "            if char != \":\":\n",
        "                sentence = sentence.replace(char, ' ')\n",
        "        words = list(sentence.split())\n",
        "        length = int(len(words))\n",
        "        print(\"Date :\",' '.join(i for i in words[1:4]))\n",
        "        events_dict[\"date\"] = ' '.join(i for i in words[1:4])\n",
        "        print(\"Day of Week :\",words[0])\n",
        "        events_dict[\"day_of_week\"] = words[0]\n",
        "        if length <= 4:\n",
        "            print(\"Start Time :\",\"Time Not Specified\")\n",
        "            events_dict[\"start_time\"] = \"Time Not Specified\"\n",
        "            print(\"End Time :\",\"Time Not Specified\")\n",
        "            events_dict[\"end_time\"] = \"Time Not Specified\"\n",
        "        elif length <= 5:\n",
        "            print(\"Start Time :\",words[-1])\n",
        "            events_dict[\"start_time\"] = words[-1]\n",
        "            print(\"End Time : Time Not Specified\")\n",
        "            events_dict[\"end_time\"] = \"Time Not Specified\"\n",
        "        else:\n",
        "            print(\"Start Time :\",words[4])\n",
        "            events_dict[\"start_time\"] = words[4]\n",
        "            print(\"End Time :\",words[-1])\n",
        "            events_dict[\"end_time\"] = words[-1]\n",
        "    x = i.find_all(\"p\",\"em-card_event-text\")\n",
        "    for j in x:\n",
        "        if \"2023\" not in j.text.strip():\n",
        "            print(j.text.strip())\n",
        "            events_dict[\"location\"] = j.text.strip()\n",
        "        else:\n",
        "            None\n",
        "    count = []\n",
        "    for j in x:\n",
        "        count.append(j)\n",
        "    count_length = len(count)\n",
        "    if count_length == 1:\n",
        "        print(\"Location: No Location Was Listed\")\n",
        "        events_dict[\"location\"] = \"No Location Was Listed\"\n",
        "    if i.find(\"img\",\"img_card\")[\"src\"] == None:\n",
        "        print(\"Image: No Image Found\")\n",
        "        events_dict[\"image\"] = \"No Image Found\"\n",
        "    else:\n",
        "        display(Image(url=i.find(\"img\",\"img_card\")[\"src\"], height=200))\n",
        "        events_dict[\"image\"] = i.find(\"img\",\"img_card\")[\"src\"]\n",
        "    if i.find(\"a\",\"em-card_tag\") == None:\n",
        "        print(\"Primary Event type: No Event Type Specified\")\n",
        "        events_dict[\"primary_event_type\"] = \"No Event Type Specified\"\n",
        "    else:\n",
        "        print(\"Primary Event type:\",(i.find(\"a\",\"em-card_tag\").text))\n",
        "        events_dict[\"primary_event_type\"] = i.find(\"a\",\"em-card_tag\").text\n",
        "    events.append(events_dict)\n",
        "    print(\"--------------------------------------\")"
      ],
      "metadata": {
        "id": "u9LZtRSDH3te",
        "colab": {
          "base_uri": "https://localhost:8080/",
          "height": 1000
        },
        "outputId": "92eb0464-8dd1-4c81-fa0f-e24e4b8b3623"
      },
      "execution_count": 82,
      "outputs": [
        {
          "output_type": "stream",
          "name": "stdout",
          "text": [
            "title : The Art Of Collecting: Gifts From The Luther W. Brady Estate\n",
            "Date : Oct 11 2023\n",
            "Day of Week : Wed\n",
            "Start Time : Time Not Specified\n",
            "End Time : Time Not Specified\n",
            "Luther W. Brady Art Gallery\n"
          ]
        },
        {
          "output_type": "display_data",
          "data": {
            "text/html": [
              "<img src=\"https://localist-images.azureedge.net/photos/44341505834705/card/b9f183a9c3d0df33dc15e5a15eb2e8a567ae99fd.jpg\" height=\"200\"/>"
            ],
            "text/plain": [
              "<IPython.core.display.Image object>"
            ]
          },
          "metadata": {}
        },
        {
          "output_type": "stream",
          "name": "stdout",
          "text": [
            "Primary Event type: Exhibition\n",
            "--------------------------------------\n",
            "title : Next Next_\n",
            "Date : Oct 11 2023\n",
            "Day of Week : Wed\n",
            "Start Time : Time Not Specified\n",
            "End Time : Time Not Specified\n",
            "Flagg Building, Student Lounge & Gallery 7\n"
          ]
        },
        {
          "output_type": "display_data",
          "data": {
            "text/html": [
              "<img src=\"https://localist-images.azureedge.net/photos/44145241617027/card/25967ccb4ab3fc22625fd6aab4467f5e3a727c70.jpg\" height=\"200\"/>"
            ],
            "text/plain": [
              "<IPython.core.display.Image object>"
            ]
          },
          "metadata": {}
        },
        {
          "output_type": "stream",
          "name": "stdout",
          "text": [
            "Primary Event type: Arts & Culture\n",
            "--------------------------------------\n",
            "title : Alumni In Finance & Real Estate: Industry Networking Breakfast (Nyc)\n",
            "Date : Oct 11 2023\n",
            "Day of Week : Wed\n",
            "Start Time : 8:30am\n",
            "End Time : 9:30am\n",
            "Location: No Location Was Listed\n"
          ]
        },
        {
          "output_type": "display_data",
          "data": {
            "text/html": [
              "<img src=\"https://localist-images.azureedge.net/photos/42241821362097/card/2df672dda2dbd1ddc52531f98842065734b9455a.jpg\" height=\"200\"/>"
            ],
            "text/plain": [
              "<IPython.core.display.Image object>"
            ]
          },
          "metadata": {}
        },
        {
          "output_type": "stream",
          "name": "stdout",
          "text": [
            "Primary Event type: Alumni\n",
            "--------------------------------------\n",
            "title : Gwsb Ms In Information Systems Technology  Information Session & Webinar\n",
            "Date : Oct 11 2023\n",
            "Day of Week : Wed\n",
            "Start Time : 9am\n",
            "End Time : 9:30am\n",
            "Virtual Event\n"
          ]
        },
        {
          "output_type": "display_data",
          "data": {
            "text/html": [
              "<img src=\"https://localist-images.azureedge.net/photos/44375430227270/card/83089f8cfffb5202525364b202ec18e0dfc9a780.jpg\" height=\"200\"/>"
            ],
            "text/plain": [
              "<IPython.core.display.Image object>"
            ]
          },
          "metadata": {}
        },
        {
          "output_type": "stream",
          "name": "stdout",
          "text": [
            "Primary Event type: Admissions\n",
            "--------------------------------------\n",
            "title : Anne Lindberg: What Color Is Divine Light?\n",
            "Date : Oct 11 2023\n",
            "Day of Week : Wed\n",
            "Start Time : 10am\n",
            "End Time : 5pm\n",
            "The George Washington Museum and the Textile Museum\n"
          ]
        },
        {
          "output_type": "display_data",
          "data": {
            "text/html": [
              "<img src=\"https://localist-images.azureedge.net/photos/42118325116114/card/4da031cb790aac350a55b587ee9d90ff88c130c7.jpg\" height=\"200\"/>"
            ],
            "text/plain": [
              "<IPython.core.display.Image object>"
            ]
          },
          "metadata": {}
        },
        {
          "output_type": "stream",
          "name": "stdout",
          "text": [
            "Primary Event type: Arts & Culture\n",
            "--------------------------------------\n",
            "title : Classical Washington\n",
            "Date : Oct 11 2023\n",
            "Day of Week : Wed\n",
            "Start Time : 10am\n",
            "End Time : 5pm\n",
            "The George Washington Museum and the Textile Museum\n"
          ]
        },
        {
          "output_type": "display_data",
          "data": {
            "text/html": [
              "<img src=\"https://localist-images.azureedge.net/photos/43535881455949/card/0f99f12983022726298d8ec3c46b4bda8ffa7744.jpg\" height=\"200\"/>"
            ],
            "text/plain": [
              "<IPython.core.display.Image object>"
            ]
          },
          "metadata": {}
        },
        {
          "output_type": "stream",
          "name": "stdout",
          "text": [
            "Primary Event type: Arts & Culture\n",
            "--------------------------------------\n",
            "title : Handstitched Worlds: The Cartography Of Quilts\n",
            "Date : Oct 11 2023\n",
            "Day of Week : Wed\n",
            "Start Time : 10am\n",
            "End Time : 5pm\n",
            "The George Washington Museum and the Textile Museum\n"
          ]
        },
        {
          "output_type": "display_data",
          "data": {
            "text/html": [
              "<img src=\"https://localist-images.azureedge.net/photos/44435982865361/card/6884bb6714f5645aba633df951757d2deec6588d.jpg\" height=\"200\"/>"
            ],
            "text/plain": [
              "<IPython.core.display.Image object>"
            ]
          },
          "metadata": {}
        },
        {
          "output_type": "stream",
          "name": "stdout",
          "text": [
            "Primary Event type: Arts & Culture\n",
            "--------------------------------------\n",
            "title : The New Naval And Military Map Of The United States\n",
            "Date : Oct 11 2023\n",
            "Day of Week : Wed\n",
            "Start Time : 10am\n",
            "End Time : 5pm\n",
            "The George Washington Museum and the Textile Museum\n"
          ]
        },
        {
          "output_type": "display_data",
          "data": {
            "text/html": [
              "<img src=\"https://localist-images.azureedge.net/photos/43570487835771/card/fdeec78cbfcf7187fe87d06c1ae29bfbb2bfe5de.jpg\" height=\"200\"/>"
            ],
            "text/plain": [
              "<IPython.core.display.Image object>"
            ]
          },
          "metadata": {}
        },
        {
          "output_type": "stream",
          "name": "stdout",
          "text": [
            "Primary Event type: Arts & Culture\n",
            "--------------------------------------\n",
            "title : From Spark To Impact: Promoting And Enabling Research With The Libraries And Academic Innovation Team\n",
            "Date : Oct 11 2023\n",
            "Day of Week : Wed\n",
            "Start Time : 11am\n",
            "End Time : 12pm\n",
            "Gelman Library, Room 608\n"
          ]
        },
        {
          "output_type": "display_data",
          "data": {
            "text/html": [
              "<img src=\"https://localist-images.azureedge.net/photos/44378798413071/card/bbc500a9950cde458ee04eba98277d3fdad34642.jpg\" height=\"200\"/>"
            ],
            "text/plain": [
              "<IPython.core.display.Image object>"
            ]
          },
          "metadata": {}
        },
        {
          "output_type": "stream",
          "name": "stdout",
          "text": [
            "Primary Event type: Research\n",
            "--------------------------------------\n",
            "title : Gwsb Ms In Project Management Information Session & Webinar\n",
            "Date : Oct 11 2023\n",
            "Day of Week : Wed\n",
            "Start Time : 12pm\n",
            "End Time : 12:30pm\n",
            "Virtual Event\n"
          ]
        },
        {
          "output_type": "display_data",
          "data": {
            "text/html": [
              "<img src=\"https://localist-images.azureedge.net/photos/44375907164997/card/9c762f09bd8ea05d90f7f8e87889cf3ff782c454.jpg\" height=\"200\"/>"
            ],
            "text/plain": [
              "<IPython.core.display.Image object>"
            ]
          },
          "metadata": {}
        },
        {
          "output_type": "stream",
          "name": "stdout",
          "text": [
            "Primary Event type: Admissions\n",
            "--------------------------------------\n",
            "title : International Education (Master'S) - Virtual Information Session\n",
            "Date : Oct 11 2023\n",
            "Day of Week : Wed\n",
            "Start Time : 12pm\n",
            "End Time : 1pm\n",
            "Virtual Event\n"
          ]
        },
        {
          "output_type": "display_data",
          "data": {
            "text/html": [
              "<img src=\"https://localist-images.azureedge.net/photos/43669583116057/card/45daaa0a4147b6701146c4b7ac4cab8f190f3919.jpg\" height=\"200\"/>"
            ],
            "text/plain": [
              "<IPython.core.display.Image object>"
            ]
          },
          "metadata": {}
        },
        {
          "output_type": "stream",
          "name": "stdout",
          "text": [
            "Primary Event type: Admissions\n",
            "--------------------------------------\n",
            "title : Bloomberg Industry Group Careers Panel\n",
            "Date : Oct 11 2023\n",
            "Day of Week : Wed\n",
            "Start Time : 12:30pm\n",
            "End Time : 2pm\n",
            "Law School, Tasher Great Room\n"
          ]
        },
        {
          "output_type": "display_data",
          "data": {
            "text/html": [
              "<img src=\"https://localist-images.azureedge.net/photos/44315096189754/card/97406acb330d12f9f5198c7986ba644bcef9c6ca.jpg\" height=\"200\"/>"
            ],
            "text/plain": [
              "<IPython.core.display.Image object>"
            ]
          },
          "metadata": {}
        },
        {
          "output_type": "stream",
          "name": "stdout",
          "text": [
            "Primary Event type: \n",
            "--------------------------------------\n",
            "title : From Spark To Impact: Software Systems For Researchers With Proposals And Awards\n",
            "Date : Oct 11 2023\n",
            "Day of Week : Wed\n",
            "Start Time : 1pm\n",
            "End Time : 2pm\n",
            "Rome Hall (Academic Center), Room 206\n"
          ]
        },
        {
          "output_type": "display_data",
          "data": {
            "text/html": [
              "<img src=\"https://localist-images.azureedge.net/photos/44378798413071/card/bbc500a9950cde458ee04eba98277d3fdad34642.jpg\" height=\"200\"/>"
            ],
            "text/plain": [
              "<IPython.core.display.Image object>"
            ]
          },
          "metadata": {}
        },
        {
          "output_type": "stream",
          "name": "stdout",
          "text": [
            "Primary Event type: Research\n",
            "--------------------------------------\n",
            "title : Gw Collection / Corcoran Faculty Selection \n",
            "Date : Oct 11 2023\n",
            "Day of Week : Wed\n",
            "Start Time : 1pm\n",
            "End Time : 5pm\n",
            "Flagg Building, Gallery 6\n"
          ]
        },
        {
          "output_type": "display_data",
          "data": {
            "text/html": [
              "<img src=\"https://localist-images.azureedge.net/photos/44341301567849/card/a2e4a13aac50d85135e9e26f60299dfc0964d13b.jpg\" height=\"200\"/>"
            ],
            "text/plain": [
              "<IPython.core.display.Image object>"
            ]
          },
          "metadata": {}
        },
        {
          "output_type": "stream",
          "name": "stdout",
          "text": [
            "Primary Event type: Exhibition\n",
            "--------------------------------------\n",
            "title : Global Reflections: A Virtual Group Processing Space\n",
            "Date : Oct 11 2023\n",
            "Day of Week : Wed\n",
            "Start Time : 1pm\n",
            "End Time : 2:30pm\n",
            "Online\n"
          ]
        },
        {
          "output_type": "display_data",
          "data": {
            "text/html": [
              "<img src=\"https://localist-images.azureedge.net/photos/44514486635712/card/917664f9b499aafd3446aec08a04ff842c21977c.jpg\" height=\"200\"/>"
            ],
            "text/plain": [
              "<IPython.core.display.Image object>"
            ]
          },
          "metadata": {}
        },
        {
          "output_type": "stream",
          "name": "stdout",
          "text": [
            "Primary Event type: Student Life\n",
            "--------------------------------------\n",
            "title : Too Good To Be True? Beware Of Job Offer Scams! \n",
            "Date : Oct 11 2023\n",
            "Day of Week : Wed\n",
            "Start Time : 2pm\n",
            "End Time : Time Not Specified\n",
            "Virtual Event\n"
          ]
        },
        {
          "output_type": "display_data",
          "data": {
            "text/html": [
              "<img src=\"https://localist-images.azureedge.net/photos/44401078728662/card/7a4da81f1e782060a54f95b084ff7230af026160.jpg\" height=\"200\"/>"
            ],
            "text/plain": [
              "<IPython.core.display.Image object>"
            ]
          },
          "metadata": {}
        },
        {
          "output_type": "stream",
          "name": "stdout",
          "text": [
            "Primary Event type: Info Session\n",
            "--------------------------------------\n",
            "title : Dr. Sharon Murphy Book Talk \n",
            "Date : Oct 11 2023\n",
            "Day of Week : Wed\n",
            "Start Time : 2:30pm\n",
            "End Time : 4pm\n",
            "Location: No Location Was Listed\n"
          ]
        },
        {
          "output_type": "display_data",
          "data": {
            "text/html": [
              "<img src=\"https://localist-images.azureedge.net/photos/44447575267858/card/0a3250bd3f07a67c2c4b02bf39dfe7ee968cbc8c.jpg\" height=\"200\"/>"
            ],
            "text/plain": [
              "<IPython.core.display.Image object>"
            ]
          },
          "metadata": {}
        },
        {
          "output_type": "stream",
          "name": "stdout",
          "text": [
            "Primary Event type: No Event Type Specified\n",
            "--------------------------------------\n",
            "title : Macro-International Seminar: Tony Zhang, Federal Reserve\n",
            "Date : Oct 11 2023\n",
            "Day of Week : Wed\n",
            "Start Time : 2:30pm\n",
            "End Time : 4pm\n",
            "Hall of Government, 321\n"
          ]
        },
        {
          "output_type": "display_data",
          "data": {
            "text/html": [
              "<img src=\"https://localist-images.azureedge.net/photos/44445628790768/card/c0f27330978efda9dcdde85742df6e2f1859f9df.jpg\" height=\"200\"/>"
            ],
            "text/plain": [
              "<IPython.core.display.Image object>"
            ]
          },
          "metadata": {}
        },
        {
          "output_type": "stream",
          "name": "stdout",
          "text": [
            "Primary Event type: Academic\n",
            "--------------------------------------\n",
            "title : Accessibility On Campus Discussion\n",
            "Date : Oct 11 2023\n",
            "Day of Week : Wed\n",
            "Start Time : 3pm\n",
            "End Time : 4pm\n",
            "Online\n"
          ]
        },
        {
          "output_type": "display_data",
          "data": {
            "text/html": [
              "<img src=\"https://localist-images.azureedge.net/photos/44505599425100/card/72013548cf584917e52c3e5e93746cd0c4b0b13b.jpg\" height=\"200\"/>"
            ],
            "text/plain": [
              "<IPython.core.display.Image object>"
            ]
          },
          "metadata": {}
        },
        {
          "output_type": "stream",
          "name": "stdout",
          "text": [
            "Primary Event type: Student Life\n",
            "--------------------------------------\n",
            "title : Collaborative Reform Conference -- Effective Law Enforcement For All\n",
            "Date : Oct 11 2023\n",
            "Day of Week : Wed\n",
            "Start Time : 3pm\n",
            "End Time : 7:30am\n",
            "Elliott School of International Affairs, GW University, City View Room\n"
          ]
        },
        {
          "output_type": "display_data",
          "data": {
            "text/html": [
              "<img src=\"https://localist-images.azureedge.net/photos/44482989914087/card/b0bc18815d190ef6accbac6b9994acfd9e3c705e.jpg\" height=\"200\"/>"
            ],
            "text/plain": [
              "<IPython.core.display.Image object>"
            ]
          },
          "metadata": {}
        },
        {
          "output_type": "stream",
          "name": "stdout",
          "text": [
            "Primary Event type: Lectures & Speakers\n",
            "--------------------------------------\n",
            "title : Inequality And The Crisis Of Liberal Democracy\n",
            "Date : Oct 11 2023\n",
            "Day of Week : Wed\n",
            "Start Time : 4pm\n",
            "End Time : 5pm\n",
            "1957 E Street NW, 412Q\n"
          ]
        },
        {
          "output_type": "display_data",
          "data": {
            "text/html": [
              "<img src=\"https://localist-images.azureedge.net/photos/44393839734790/card/f3ae5987934b95bbb500aa580d4585341df27902.jpg\" height=\"200\"/>"
            ],
            "text/plain": [
              "<IPython.core.display.Image object>"
            ]
          },
          "metadata": {}
        },
        {
          "output_type": "stream",
          "name": "stdout",
          "text": [
            "Primary Event type: Lectures & Speakers\n",
            "--------------------------------------\n"
          ]
        }
      ]
    },
    {
      "cell_type": "code",
      "source": [
        "# Question 4 basic solution:\n",
        "from pandas import DataFrame\n",
        "\n",
        "events_df = DataFrame(events)\n",
        "events_df.head()"
      ],
      "metadata": {
        "colab": {
          "base_uri": "https://localhost:8080/",
          "height": 293
        },
        "id": "uGkZOaXcH3lR",
        "outputId": "8b7ce97e-c4a9-44b9-a67b-54361d98f19b"
      },
      "execution_count": 83,
      "outputs": [
        {
          "output_type": "execute_result",
          "data": {
            "text/plain": [
              "                                               title         date day_of_week  \\\n",
              "0  The Art Of Collecting: Gifts From The Luther W...  Oct 11 2023         Wed   \n",
              "1                                         Next Next_  Oct 11 2023         Wed   \n",
              "2  Alumni In Finance & Real Estate: Industry Netw...  Oct 11 2023         Wed   \n",
              "3  Gwsb Ms In Information Systems Technology  Inf...  Oct 11 2023         Wed   \n",
              "4         Anne Lindberg: What Color Is Divine Light?  Oct 11 2023         Wed   \n",
              "\n",
              "           start_time            end_time  \\\n",
              "0  Time Not Specified  Time Not Specified   \n",
              "1  Time Not Specified  Time Not Specified   \n",
              "2              8:30am              9:30am   \n",
              "3                 9am              9:30am   \n",
              "4                10am                 5pm   \n",
              "\n",
              "                                            location  \\\n",
              "0                        Luther W. Brady Art Gallery   \n",
              "1         Flagg Building, Student Lounge & Gallery 7   \n",
              "2                             No Location Was Listed   \n",
              "3                                      Virtual Event   \n",
              "4  The George Washington Museum and the Textile M...   \n",
              "\n",
              "                                               image primary_event_type  \n",
              "0  https://localist-images.azureedge.net/photos/4...         Exhibition  \n",
              "1  https://localist-images.azureedge.net/photos/4...     Arts & Culture  \n",
              "2  https://localist-images.azureedge.net/photos/4...             Alumni  \n",
              "3  https://localist-images.azureedge.net/photos/4...         Admissions  \n",
              "4  https://localist-images.azureedge.net/photos/4...     Arts & Culture  "
            ],
            "text/html": [
              "\n",
              "  <div id=\"df-4f19e5d6-e44d-4deb-b751-404f35670165\" class=\"colab-df-container\">\n",
              "    <div>\n",
              "<style scoped>\n",
              "    .dataframe tbody tr th:only-of-type {\n",
              "        vertical-align: middle;\n",
              "    }\n",
              "\n",
              "    .dataframe tbody tr th {\n",
              "        vertical-align: top;\n",
              "    }\n",
              "\n",
              "    .dataframe thead th {\n",
              "        text-align: right;\n",
              "    }\n",
              "</style>\n",
              "<table border=\"1\" class=\"dataframe\">\n",
              "  <thead>\n",
              "    <tr style=\"text-align: right;\">\n",
              "      <th></th>\n",
              "      <th>title</th>\n",
              "      <th>date</th>\n",
              "      <th>day_of_week</th>\n",
              "      <th>start_time</th>\n",
              "      <th>end_time</th>\n",
              "      <th>location</th>\n",
              "      <th>image</th>\n",
              "      <th>primary_event_type</th>\n",
              "    </tr>\n",
              "  </thead>\n",
              "  <tbody>\n",
              "    <tr>\n",
              "      <th>0</th>\n",
              "      <td>The Art Of Collecting: Gifts From The Luther W...</td>\n",
              "      <td>Oct 11 2023</td>\n",
              "      <td>Wed</td>\n",
              "      <td>Time Not Specified</td>\n",
              "      <td>Time Not Specified</td>\n",
              "      <td>Luther W. Brady Art Gallery</td>\n",
              "      <td>https://localist-images.azureedge.net/photos/4...</td>\n",
              "      <td>Exhibition</td>\n",
              "    </tr>\n",
              "    <tr>\n",
              "      <th>1</th>\n",
              "      <td>Next Next_</td>\n",
              "      <td>Oct 11 2023</td>\n",
              "      <td>Wed</td>\n",
              "      <td>Time Not Specified</td>\n",
              "      <td>Time Not Specified</td>\n",
              "      <td>Flagg Building, Student Lounge &amp; Gallery 7</td>\n",
              "      <td>https://localist-images.azureedge.net/photos/4...</td>\n",
              "      <td>Arts &amp; Culture</td>\n",
              "    </tr>\n",
              "    <tr>\n",
              "      <th>2</th>\n",
              "      <td>Alumni In Finance &amp; Real Estate: Industry Netw...</td>\n",
              "      <td>Oct 11 2023</td>\n",
              "      <td>Wed</td>\n",
              "      <td>8:30am</td>\n",
              "      <td>9:30am</td>\n",
              "      <td>No Location Was Listed</td>\n",
              "      <td>https://localist-images.azureedge.net/photos/4...</td>\n",
              "      <td>Alumni</td>\n",
              "    </tr>\n",
              "    <tr>\n",
              "      <th>3</th>\n",
              "      <td>Gwsb Ms In Information Systems Technology  Inf...</td>\n",
              "      <td>Oct 11 2023</td>\n",
              "      <td>Wed</td>\n",
              "      <td>9am</td>\n",
              "      <td>9:30am</td>\n",
              "      <td>Virtual Event</td>\n",
              "      <td>https://localist-images.azureedge.net/photos/4...</td>\n",
              "      <td>Admissions</td>\n",
              "    </tr>\n",
              "    <tr>\n",
              "      <th>4</th>\n",
              "      <td>Anne Lindberg: What Color Is Divine Light?</td>\n",
              "      <td>Oct 11 2023</td>\n",
              "      <td>Wed</td>\n",
              "      <td>10am</td>\n",
              "      <td>5pm</td>\n",
              "      <td>The George Washington Museum and the Textile M...</td>\n",
              "      <td>https://localist-images.azureedge.net/photos/4...</td>\n",
              "      <td>Arts &amp; Culture</td>\n",
              "    </tr>\n",
              "  </tbody>\n",
              "</table>\n",
              "</div>\n",
              "    <div class=\"colab-df-buttons\">\n",
              "\n",
              "  <div class=\"colab-df-container\">\n",
              "    <button class=\"colab-df-convert\" onclick=\"convertToInteractive('df-4f19e5d6-e44d-4deb-b751-404f35670165')\"\n",
              "            title=\"Convert this dataframe to an interactive table.\"\n",
              "            style=\"display:none;\">\n",
              "\n",
              "  <svg xmlns=\"http://www.w3.org/2000/svg\" height=\"24px\" viewBox=\"0 -960 960 960\">\n",
              "    <path d=\"M120-120v-720h720v720H120Zm60-500h600v-160H180v160Zm220 220h160v-160H400v160Zm0 220h160v-160H400v160ZM180-400h160v-160H180v160Zm440 0h160v-160H620v160ZM180-180h160v-160H180v160Zm440 0h160v-160H620v160Z\"/>\n",
              "  </svg>\n",
              "    </button>\n",
              "\n",
              "  <style>\n",
              "    .colab-df-container {\n",
              "      display:flex;\n",
              "      gap: 12px;\n",
              "    }\n",
              "\n",
              "    .colab-df-convert {\n",
              "      background-color: #E8F0FE;\n",
              "      border: none;\n",
              "      border-radius: 50%;\n",
              "      cursor: pointer;\n",
              "      display: none;\n",
              "      fill: #1967D2;\n",
              "      height: 32px;\n",
              "      padding: 0 0 0 0;\n",
              "      width: 32px;\n",
              "    }\n",
              "\n",
              "    .colab-df-convert:hover {\n",
              "      background-color: #E2EBFA;\n",
              "      box-shadow: 0px 1px 2px rgba(60, 64, 67, 0.3), 0px 1px 3px 1px rgba(60, 64, 67, 0.15);\n",
              "      fill: #174EA6;\n",
              "    }\n",
              "\n",
              "    .colab-df-buttons div {\n",
              "      margin-bottom: 4px;\n",
              "    }\n",
              "\n",
              "    [theme=dark] .colab-df-convert {\n",
              "      background-color: #3B4455;\n",
              "      fill: #D2E3FC;\n",
              "    }\n",
              "\n",
              "    [theme=dark] .colab-df-convert:hover {\n",
              "      background-color: #434B5C;\n",
              "      box-shadow: 0px 1px 3px 1px rgba(0, 0, 0, 0.15);\n",
              "      filter: drop-shadow(0px 1px 2px rgba(0, 0, 0, 0.3));\n",
              "      fill: #FFFFFF;\n",
              "    }\n",
              "  </style>\n",
              "\n",
              "    <script>\n",
              "      const buttonEl =\n",
              "        document.querySelector('#df-4f19e5d6-e44d-4deb-b751-404f35670165 button.colab-df-convert');\n",
              "      buttonEl.style.display =\n",
              "        google.colab.kernel.accessAllowed ? 'block' : 'none';\n",
              "\n",
              "      async function convertToInteractive(key) {\n",
              "        const element = document.querySelector('#df-4f19e5d6-e44d-4deb-b751-404f35670165');\n",
              "        const dataTable =\n",
              "          await google.colab.kernel.invokeFunction('convertToInteractive',\n",
              "                                                    [key], {});\n",
              "        if (!dataTable) return;\n",
              "\n",
              "        const docLinkHtml = 'Like what you see? Visit the ' +\n",
              "          '<a target=\"_blank\" href=https://colab.research.google.com/notebooks/data_table.ipynb>data table notebook</a>'\n",
              "          + ' to learn more about interactive tables.';\n",
              "        element.innerHTML = '';\n",
              "        dataTable['output_type'] = 'display_data';\n",
              "        await google.colab.output.renderOutput(dataTable, element);\n",
              "        const docLink = document.createElement('div');\n",
              "        docLink.innerHTML = docLinkHtml;\n",
              "        element.appendChild(docLink);\n",
              "      }\n",
              "    </script>\n",
              "  </div>\n",
              "\n",
              "\n",
              "<div id=\"df-056256b8-a304-4eaa-8bb8-16a9ab4793b1\">\n",
              "  <button class=\"colab-df-quickchart\" onclick=\"quickchart('df-056256b8-a304-4eaa-8bb8-16a9ab4793b1')\"\n",
              "            title=\"Suggest charts.\"\n",
              "            style=\"display:none;\">\n",
              "\n",
              "<svg xmlns=\"http://www.w3.org/2000/svg\" height=\"24px\"viewBox=\"0 0 24 24\"\n",
              "     width=\"24px\">\n",
              "    <g>\n",
              "        <path d=\"M19 3H5c-1.1 0-2 .9-2 2v14c0 1.1.9 2 2 2h14c1.1 0 2-.9 2-2V5c0-1.1-.9-2-2-2zM9 17H7v-7h2v7zm4 0h-2V7h2v10zm4 0h-2v-4h2v4z\"/>\n",
              "    </g>\n",
              "</svg>\n",
              "  </button>\n",
              "\n",
              "<style>\n",
              "  .colab-df-quickchart {\n",
              "      --bg-color: #E8F0FE;\n",
              "      --fill-color: #1967D2;\n",
              "      --hover-bg-color: #E2EBFA;\n",
              "      --hover-fill-color: #174EA6;\n",
              "      --disabled-fill-color: #AAA;\n",
              "      --disabled-bg-color: #DDD;\n",
              "  }\n",
              "\n",
              "  [theme=dark] .colab-df-quickchart {\n",
              "      --bg-color: #3B4455;\n",
              "      --fill-color: #D2E3FC;\n",
              "      --hover-bg-color: #434B5C;\n",
              "      --hover-fill-color: #FFFFFF;\n",
              "      --disabled-bg-color: #3B4455;\n",
              "      --disabled-fill-color: #666;\n",
              "  }\n",
              "\n",
              "  .colab-df-quickchart {\n",
              "    background-color: var(--bg-color);\n",
              "    border: none;\n",
              "    border-radius: 50%;\n",
              "    cursor: pointer;\n",
              "    display: none;\n",
              "    fill: var(--fill-color);\n",
              "    height: 32px;\n",
              "    padding: 0;\n",
              "    width: 32px;\n",
              "  }\n",
              "\n",
              "  .colab-df-quickchart:hover {\n",
              "    background-color: var(--hover-bg-color);\n",
              "    box-shadow: 0 1px 2px rgba(60, 64, 67, 0.3), 0 1px 3px 1px rgba(60, 64, 67, 0.15);\n",
              "    fill: var(--button-hover-fill-color);\n",
              "  }\n",
              "\n",
              "  .colab-df-quickchart-complete:disabled,\n",
              "  .colab-df-quickchart-complete:disabled:hover {\n",
              "    background-color: var(--disabled-bg-color);\n",
              "    fill: var(--disabled-fill-color);\n",
              "    box-shadow: none;\n",
              "  }\n",
              "\n",
              "  .colab-df-spinner {\n",
              "    border: 2px solid var(--fill-color);\n",
              "    border-color: transparent;\n",
              "    border-bottom-color: var(--fill-color);\n",
              "    animation:\n",
              "      spin 1s steps(1) infinite;\n",
              "  }\n",
              "\n",
              "  @keyframes spin {\n",
              "    0% {\n",
              "      border-color: transparent;\n",
              "      border-bottom-color: var(--fill-color);\n",
              "      border-left-color: var(--fill-color);\n",
              "    }\n",
              "    20% {\n",
              "      border-color: transparent;\n",
              "      border-left-color: var(--fill-color);\n",
              "      border-top-color: var(--fill-color);\n",
              "    }\n",
              "    30% {\n",
              "      border-color: transparent;\n",
              "      border-left-color: var(--fill-color);\n",
              "      border-top-color: var(--fill-color);\n",
              "      border-right-color: var(--fill-color);\n",
              "    }\n",
              "    40% {\n",
              "      border-color: transparent;\n",
              "      border-right-color: var(--fill-color);\n",
              "      border-top-color: var(--fill-color);\n",
              "    }\n",
              "    60% {\n",
              "      border-color: transparent;\n",
              "      border-right-color: var(--fill-color);\n",
              "    }\n",
              "    80% {\n",
              "      border-color: transparent;\n",
              "      border-right-color: var(--fill-color);\n",
              "      border-bottom-color: var(--fill-color);\n",
              "    }\n",
              "    90% {\n",
              "      border-color: transparent;\n",
              "      border-bottom-color: var(--fill-color);\n",
              "    }\n",
              "  }\n",
              "</style>\n",
              "\n",
              "  <script>\n",
              "    async function quickchart(key) {\n",
              "      const quickchartButtonEl =\n",
              "        document.querySelector('#' + key + ' button');\n",
              "      quickchartButtonEl.disabled = true;  // To prevent multiple clicks.\n",
              "      quickchartButtonEl.classList.add('colab-df-spinner');\n",
              "      try {\n",
              "        const charts = await google.colab.kernel.invokeFunction(\n",
              "            'suggestCharts', [key], {});\n",
              "      } catch (error) {\n",
              "        console.error('Error during call to suggestCharts:', error);\n",
              "      }\n",
              "      quickchartButtonEl.classList.remove('colab-df-spinner');\n",
              "      quickchartButtonEl.classList.add('colab-df-quickchart-complete');\n",
              "    }\n",
              "    (() => {\n",
              "      let quickchartButtonEl =\n",
              "        document.querySelector('#df-056256b8-a304-4eaa-8bb8-16a9ab4793b1 button');\n",
              "      quickchartButtonEl.style.display =\n",
              "        google.colab.kernel.accessAllowed ? 'block' : 'none';\n",
              "    })();\n",
              "  </script>\n",
              "</div>\n",
              "    </div>\n",
              "  </div>\n"
            ]
          },
          "metadata": {},
          "execution_count": 83
        }
      ]
    },
    {
      "cell_type": "code",
      "source": [
        "# Question 5 solution:\n",
        "events_df.to_csv(\"events.csv\")"
      ],
      "metadata": {
        "id": "E5_mC75FKPW2"
      },
      "execution_count": 84,
      "outputs": []
    },
    {
      "cell_type": "markdown",
      "source": [
        "## Exploration / Scratch Work"
      ],
      "metadata": {
        "id": "5g0caLA_rGMu"
      }
    },
    {
      "cell_type": "code",
      "source": [
        "item[0].find_all(\"p\",\"em-card_event-text\")"
      ],
      "metadata": {
        "colab": {
          "base_uri": "https://localhost:8080/"
        },
        "id": "jeCCfndFHgpr",
        "outputId": "23cd23f8-c783-4adb-c5de-8bb07a7cddcf"
      },
      "execution_count": 47,
      "outputs": [
        {
          "output_type": "execute_result",
          "data": {
            "text/plain": [
              "[<p class=\"em-card_event-text\">\n",
              "       \n",
              "         Wed, Oct 11, 2023\n",
              "       \n",
              "     </p>,\n",
              " <p class=\"em-card_event-text\">\n",
              " <a href=\"https://calendar.gwu.edu/event/the_art_of_collecting_gifts_from_the_luther_w_brady_estate\"><i class=\"fas fa-map-marker-alt\"></i>  Luther W. Brady Art Gallery</a>\n",
              " </p>]"
            ]
          },
          "metadata": {},
          "execution_count": 47
        }
      ]
    },
    {
      "cell_type": "code",
      "source": [
        "for i in item:\n",
        "    x = i.find_all(\"p\",\"em-card_event-text\")\n",
        "    for j in x:\n",
        "        if \"2023\" not in j.text.strip():\n",
        "            print(j.text.strip())\n",
        "        else:\n",
        "            None"
      ],
      "metadata": {
        "colab": {
          "base_uri": "https://localhost:8080/"
        },
        "id": "OZxHdNm7HxON",
        "outputId": "051af5e3-1f24-4ac6-a4db-344fa650c6a0"
      },
      "execution_count": 55,
      "outputs": [
        {
          "output_type": "stream",
          "name": "stdout",
          "text": [
            "Luther W. Brady Art Gallery\n",
            "Flagg Building, Student Lounge & Gallery 7\n",
            "Virtual Event\n",
            "The George Washington Museum and the Textile Museum\n",
            "The George Washington Museum and the Textile Museum\n",
            "The George Washington Museum and the Textile Museum\n",
            "The George Washington Museum and the Textile Museum\n",
            "Gelman Library, Room 608\n",
            "Virtual Event\n",
            "Virtual Event\n",
            "Law School, Tasher Great Room\n",
            "Rome Hall (Academic Center), Room 206\n",
            "Flagg Building, Gallery 6\n",
            "Online\n",
            "Virtual Event\n",
            "Hall of Government, 321\n",
            "Online\n",
            "Elliott School of International Affairs, GW University, City View Room\n",
            "1957 E Street NW, 412Q\n"
          ]
        }
      ]
    },
    {
      "cell_type": "code",
      "source": [
        "for i in item:\n",
        "    if i.find(\"h3\",\"em-card_title\") == None:\n",
        "        print(\"Title : No Title Available\")\n",
        "    else:\n",
        "        print(\"Title :\",(i.find(\"h3\",\"em-card_title\").text).title())"
      ],
      "metadata": {
        "id": "9Vzuf98AMwiY"
      },
      "execution_count": null,
      "outputs": []
    },
    {
      "cell_type": "code",
      "source": [
        "for i in item:\n",
        "    if i.find(\"a\",\"em-card_tag\") == None:\n",
        "        print(\"Primary Event type: No Event Type Specified\")\n",
        "    else:\n",
        "        print(\"Primary Event type:\",(i.find(\"a\",\"em-card_tag\").text))"
      ],
      "metadata": {
        "id": "glyCa9X3EeF2"
      },
      "execution_count": null,
      "outputs": []
    },
    {
      "cell_type": "code",
      "source": [
        "for i in item:\n",
        "    if i.find(\"p\",\"em-card_event-text\") == None:\n",
        "        print(\"Time : No Time Available\")\n",
        "    else:\n",
        "        sentence = i.find(\"p\",\"em-card_event-text\").text\n",
        "        for char in string.punctuation:\n",
        "            if char != \":\":\n",
        "                sentence = sentence.replace(char, ' ')\n",
        "        words = list(sentence.split())\n",
        "        length = int(len(words))\n",
        "        if length <= 4:\n",
        "            print(\"Date :\",' '.join(i for i in words[1:4]))\n",
        "            print(\"Day of Week :\",words[0])\n",
        "            print(\"Start Time :\",None)\n",
        "            print(\"End Time :\",None)\n",
        "        elif length <= 5:\n",
        "            print(\"Date :\",' '.join(i for i in words[1:4]))\n",
        "            print(\"Day of Week :\",words[0])\n",
        "            print(\"Start Time :\",words[-1])\n",
        "            print(\"End Time :\",None)\n",
        "        else:\n",
        "            print(\"Date :\",' '.join(i for i in words[1:4]))\n",
        "            print(\"Day of Week :\",words[0])\n",
        "            print(\"Start Time :\",words[4])\n",
        "            print(\"End Time :\",words[-1])\n",
        "    print(\"--------------------------------------\")"
      ],
      "metadata": {
        "id": "12wDNLRcD1Xs"
      },
      "execution_count": null,
      "outputs": []
    },
    {
      "cell_type": "code",
      "source": [
        "for i in item:\n",
        "    if i.find(\"img\",\"img_card\")[\"src\"] == None:\n",
        "        print(\"Image: No Image Found\")\n",
        "    else:\n",
        "        display(Image(url=i.find(\"img\",\"img_card\")[\"src\"]))"
      ],
      "metadata": {
        "id": "7dNDuyFIn2lI"
      },
      "execution_count": null,
      "outputs": []
    },
    {
      "cell_type": "code",
      "source": [
        "for i in item:\n",
        "    count = []\n",
        "    x = i.find_all(\"p\",\"em-card_event-text\")\n",
        "    for j in x:\n",
        "        if \"2023\" not in j.text.strip():\n",
        "            print(j.text.strip())\n",
        "            events_dict[\"location\"] = j.text.strip()\n",
        "        else:\n",
        "            None\n",
        "    for j in x:\n",
        "        count.append(j)\n",
        "    count_length = len(count)\n",
        "    if count_length == 1:\n",
        "        print(\"Location: No Location Was Listed\")\n",
        "        events_dict[\"location\"] = \"No Location Was Listed\""
      ],
      "metadata": {
        "colab": {
          "base_uri": "https://localhost:8080/"
        },
        "id": "FJ2W6735V8pL",
        "outputId": "18398e92-0021-447e-81de-88601eb8c9b9"
      },
      "execution_count": 71,
      "outputs": [
        {
          "output_type": "stream",
          "name": "stdout",
          "text": [
            "Luther W. Brady Art Gallery\n",
            "Flagg Building, Student Lounge & Gallery 7\n",
            "Location: No Location Was Listed\n",
            "Virtual Event\n",
            "The George Washington Museum and the Textile Museum\n",
            "The George Washington Museum and the Textile Museum\n",
            "The George Washington Museum and the Textile Museum\n",
            "The George Washington Museum and the Textile Museum\n",
            "Gelman Library, Room 608\n",
            "Virtual Event\n",
            "Virtual Event\n",
            "Law School, Tasher Great Room\n",
            "Rome Hall (Academic Center), Room 206\n",
            "Flagg Building, Gallery 6\n",
            "Online\n",
            "Virtual Event\n",
            "Location: No Location Was Listed\n",
            "Hall of Government, 321\n",
            "Online\n",
            "Elliott School of International Affairs, GW University, City View Room\n",
            "1957 E Street NW, 412Q\n"
          ]
        }
      ]
    },
    {
      "cell_type": "code",
      "source": [
        "def date_parser(date_info:str):\n",
        "    # TODO: parse the date string\n",
        "    return {\n",
        "        \"weekday\": \"TODO\",\n",
        "        \"date\": \"TODO\",\n",
        "        \"start\": \"TODO\",\n",
        "        \"end\": \"TODO\",\n",
        "    }"
      ],
      "metadata": {
        "id": "dN9vNpgiFMVr"
      },
      "execution_count": null,
      "outputs": []
    },
    {
      "cell_type": "code",
      "source": [
        "d1 = \"Mon, Oct 2, 2023 10am to 11:30am\"\n",
        "\n",
        "d2 = \"Mon, Oct 2, 2023\""
      ],
      "metadata": {
        "id": "aqsE2LgfGBBw"
      },
      "execution_count": null,
      "outputs": []
    },
    {
      "cell_type": "code",
      "source": [
        "assert date_parser(d1) == {\n",
        "    \"weekday\": \"Monday\", # or Mon\n",
        "    \"date\": \"2023-10-02\",\n",
        "    \"start\": \"10:00am\", # or \"10am\" or \"10:00\" or \"10:00:00\"\n",
        "    \"end\": \"11:30am\" # or \"11:30\" or \"11:30:00\"\n",
        "}"
      ],
      "metadata": {
        "id": "WnTm7s-bMp6v"
      },
      "execution_count": null,
      "outputs": []
    },
    {
      "cell_type": "code",
      "source": [
        "assert date_parser(d2) == {\n",
        "    \"weekday\": \"Monday\", # or Mon\n",
        "    \"date\": \"2023-10-02\",\n",
        "    \"start\": None,\n",
        "    \"end\": None\n",
        "}"
      ],
      "metadata": {
        "id": "DU_DeK2dHz3S"
      },
      "execution_count": null,
      "outputs": []
    },
    {
      "cell_type": "code",
      "source": [],
      "metadata": {
        "id": "ot1gxZdaGRgf"
      },
      "execution_count": null,
      "outputs": []
    },
    {
      "cell_type": "code",
      "source": [],
      "metadata": {
        "id": "yU4j2bXQGLmU"
      },
      "execution_count": null,
      "outputs": []
    },
    {
      "cell_type": "code",
      "source": [],
      "metadata": {
        "id": "Yu2_F6kTKrhw"
      },
      "execution_count": null,
      "outputs": []
    },
    {
      "cell_type": "code",
      "source": [
        "def fetch_events(selected_date=None):\n",
        "    events = []\n",
        "    # TODO\n",
        "    return events"
      ],
      "metadata": {
        "id": "2_jskJNzM34-"
      },
      "execution_count": null,
      "outputs": []
    },
    {
      "cell_type": "code",
      "source": [
        "from datetime import date\n",
        "\n",
        "events = fetch_events()\n",
        "assert any(events)\n",
        "assert events[0][\"date\"] == str(date.today())\n",
        "\n",
        "events = fetch_events(\"2023-10-20\")\n",
        "assert any(events)\n",
        "assert events[0][\"date\"] == \"2023-10-20\""
      ],
      "metadata": {
        "id": "nZVX7dKCNYfT"
      },
      "execution_count": null,
      "outputs": []
    },
    {
      "cell_type": "code",
      "source": [],
      "metadata": {
        "id": "XoMNRT0xtn5G"
      },
      "execution_count": null,
      "outputs": []
    },
    {
      "cell_type": "code",
      "source": [],
      "metadata": {
        "id": "02boleBttn2S"
      },
      "execution_count": null,
      "outputs": []
    },
    {
      "cell_type": "code",
      "source": [],
      "metadata": {
        "id": "DocOVq5ktnzV"
      },
      "execution_count": null,
      "outputs": []
    }
  ]
}